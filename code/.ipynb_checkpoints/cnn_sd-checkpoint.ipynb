{
 "cells": [
  {
   "cell_type": "markdown",
   "metadata": {
    "id": "Kdbe7l4mvka_"
   },
   "source": [
    "Convolutional Neural Network - Speaker Dependent"
   ]
  },
  {
   "cell_type": "code",
   "execution_count": 1,
   "metadata": {
    "executionInfo": {
     "elapsed": 4891,
     "status": "ok",
     "timestamp": 1638778803396,
     "user": {
      "displayName": "Andhika Rufty Pratiwi",
      "photoUrl": "https://lh3.googleusercontent.com/a-/AOh14GhtVqJx-fNCm3R6hUH2jhdMcFw30fZ6Zz2P5gDL=s64",
      "userId": "18408695516298851121"
     },
     "user_tz": -480
    },
    "id": "PzUbMKRIvP5O"
   },
   "outputs": [],
   "source": [
    "# import library\n",
    "import numpy as np\n",
    "import tensorflow as tf\n",
    "from sklearn.model_selection import train_test_split\n",
    "import matplotlib.pyplot as plt\n",
    "import random as rn"
   ]
  },
  {
   "cell_type": "code",
   "execution_count": 2,
   "metadata": {
    "colab": {
     "base_uri": "https://localhost:8080/"
    },
    "executionInfo": {
     "elapsed": 64539,
     "status": "ok",
     "timestamp": 1638778867904,
     "user": {
      "displayName": "Andhika Rufty Pratiwi",
      "photoUrl": "https://lh3.googleusercontent.com/a-/AOh14GhtVqJx-fNCm3R6hUH2jhdMcFw30fZ6Zz2P5gDL=s64",
      "userId": "18408695516298851121"
     },
     "user_tz": -480
    },
    "id": "xUFnvbKovqLJ",
    "outputId": "c20faa10-073b-4a9a-fad9-bc7674da7297"
   },
   "outputs": [
    {
     "name": "stdout",
     "output_type": "stream",
     "text": [
      "Cloning into 'speech_emotion_recognition'...\n",
      "remote: Enumerating objects: 6970, done.\u001b[K\n",
      "remote: Counting objects: 100% (109/109), done.\u001b[K\n",
      "remote: Compressing objects: 100% (50/50), done.\u001b[K\n",
      "remote: Total 6970 (delta 66), reused 101 (delta 59), pack-reused 6861\u001b[K\n",
      "Receiving objects: 100% (6970/6970), 745.22 MiB | 14.07 MiB/s, done.\n",
      "Resolving deltas: 100% (386/386), done.\n",
      "Checking out files: 100% (5306/5306), done.\n"
     ]
    }
   ],
   "source": [
    "# clone dataset from github\n",
    "!git clone https://github.com/miftanurfarid/speech_emotion_recognition/"
   ]
  },
  {
   "cell_type": "code",
   "execution_count": 3,
   "metadata": {
    "colab": {
     "base_uri": "https://localhost:8080/"
    },
    "executionInfo": {
     "elapsed": 31,
     "status": "ok",
     "timestamp": 1638778867906,
     "user": {
      "displayName": "Andhika Rufty Pratiwi",
      "photoUrl": "https://lh3.googleusercontent.com/a-/AOh14GhtVqJx-fNCm3R6hUH2jhdMcFw30fZ6Zz2P5gDL=s64",
      "userId": "18408695516298851121"
     },
     "user_tz": -480
    },
    "id": "tXcBjI3Cvq9a",
    "outputId": "12d8f1b0-9c78-4cb0-a646-1e0a0aa3166d"
   },
   "outputs": [
    {
     "name": "stdout",
     "output_type": "stream",
     "text": [
      "/content/speech_emotion_recognition\n"
     ]
    }
   ],
   "source": [
    "cd speech_emotion_recognition"
   ]
  },
  {
   "cell_type": "code",
   "execution_count": 4,
   "metadata": {
    "executionInfo": {
     "elapsed": 24,
     "status": "ok",
     "timestamp": 1638778867908,
     "user": {
      "displayName": "Andhika Rufty Pratiwi",
      "photoUrl": "https://lh3.googleusercontent.com/a-/AOh14GhtVqJx-fNCm3R6hUH2jhdMcFw30fZ6Zz2P5gDL=s64",
      "userId": "18408695516298851121"
     },
     "user_tz": -480
    },
    "id": "CiBQFyqpvtgw"
   },
   "outputs": [],
   "source": [
    "np.random.seed(123)\n",
    "rn.seed(123)\n",
    "tf.random.set_seed(123)"
   ]
  },
  {
   "cell_type": "code",
   "execution_count": 5,
   "metadata": {
    "executionInfo": {
     "elapsed": 24,
     "status": "ok",
     "timestamp": 1638778867909,
     "user": {
      "displayName": "Andhika Rufty Pratiwi",
      "photoUrl": "https://lh3.googleusercontent.com/a-/AOh14GhtVqJx-fNCm3R6hUH2jhdMcFw30fZ6Zz2P5gDL=s64",
      "userId": "18408695516298851121"
     },
     "user_tz": -480
    },
    "id": "wlLpKn8Ivwis"
   },
   "outputs": [],
   "source": [
    "# load feature data\n",
    "data_path = 'data/song/' # choose song or speech\n",
    "X = np.load(data_path + 'x.npy')\n",
    "y = np.load(data_path + 'y.npy')\n",
    "\n",
    "# reshape x untuk cnn\n",
    "X = X.reshape(X.shape[0], X.shape[1], 1)"
   ]
  },
  {
   "cell_type": "code",
   "execution_count": 6,
   "metadata": {
    "executionInfo": {
     "elapsed": 24,
     "status": "ok",
     "timestamp": 1638778867910,
     "user": {
      "displayName": "Andhika Rufty Pratiwi",
      "photoUrl": "https://lh3.googleusercontent.com/a-/AOh14GhtVqJx-fNCm3R6hUH2jhdMcFw30fZ6Zz2P5gDL=s64",
      "userId": "18408695516298851121"
     },
     "user_tz": -480
    },
    "id": "14HuUc70v45w"
   },
   "outputs": [],
   "source": [
    "# split into train and test\n",
    "x_train, x_test, y_train, y_test = train_test_split(X, y, test_size=0.1)\n",
    "\n",
    "earlystop = tf.keras.callbacks.EarlyStopping(monitor='val_loss',\n",
    "                                             patience=10,\n",
    "                                             restore_best_weights=True)\n",
    "\n",
    "checkpointer = tf.keras.callbacks.ModelCheckpoint(\n",
    "    filepath='/tmp/weights.hdf5', verbose=1, save_best_only=True)"
   ]
  },
  {
   "cell_type": "code",
   "execution_count": 7,
   "metadata": {
    "executionInfo": {
     "elapsed": 24,
     "status": "ok",
     "timestamp": 1638778867911,
     "user": {
      "displayName": "Andhika Rufty Pratiwi",
      "photoUrl": "https://lh3.googleusercontent.com/a-/AOh14GhtVqJx-fNCm3R6hUH2jhdMcFw30fZ6Zz2P5gDL=s64",
      "userId": "18408695516298851121"
     },
     "user_tz": -480
    },
    "id": "a3WRZJTmwHaN"
   },
   "outputs": [],
   "source": [
    "# function to define model\n",
    "def model_cnn():\n",
    "    model = tf.keras.models.Sequential()\n",
    "    model.add(tf.keras.layers.BatchNormalization(axis=-1,\n",
    "              input_shape=(x_train.shape[1], x_train.shape[2])))\n",
    "    model.add(tf.keras.layers.Conv1D(256, 128, 1, padding='same'))\n",
    "    model.add(tf.keras.layers.Activation('relu'))\n",
    "    model.add(tf.keras.layers.MaxPooling1D(2))\n",
    "    model.add(tf.keras.layers.Flatten())\n",
    "    model.add(tf.keras.layers.Dropout(0.4))\n",
    "    model.add(tf.keras.layers.Dense(6, activation='softmax'))\n",
    "\n",
    "    # compile model: set loss, optimizer, metric\n",
    "    model.compile(loss=tf.keras.losses.SparseCategoricalCrossentropy(),\n",
    "                  optimizer=tf.keras.optimizers.Adam(),\n",
    "                  metrics=['accuracy'])\n",
    "    return model"
   ]
  },
  {
   "cell_type": "code",
   "execution_count": 8,
   "metadata": {
    "colab": {
     "base_uri": "https://localhost:8080/"
    },
    "executionInfo": {
     "elapsed": 24,
     "status": "ok",
     "timestamp": 1638778867912,
     "user": {
      "displayName": "Andhika Rufty Pratiwi",
      "photoUrl": "https://lh3.googleusercontent.com/a-/AOh14GhtVqJx-fNCm3R6hUH2jhdMcFw30fZ6Zz2P5gDL=s64",
      "userId": "18408695516298851121"
     },
     "user_tz": -480
    },
    "id": "jcf2zqh0wJ4V",
    "outputId": "a7e5cc78-8d1f-4009-9399-564a3d2b2729"
   },
   "outputs": [
    {
     "name": "stdout",
     "output_type": "stream",
     "text": [
      "Model: \"sequential\"\n",
      "_________________________________________________________________\n",
      " Layer (type)                Output Shape              Param #   \n",
      "=================================================================\n",
      " batch_normalization (BatchN  (None, 386, 1)           4         \n",
      " ormalization)                                                   \n",
      "                                                                 \n",
      " conv1d (Conv1D)             (None, 386, 256)          33024     \n",
      "                                                                 \n",
      " activation (Activation)     (None, 386, 256)          0         \n",
      "                                                                 \n",
      " max_pooling1d (MaxPooling1D  (None, 193, 256)         0         \n",
      " )                                                               \n",
      "                                                                 \n",
      " flatten (Flatten)           (None, 49408)             0         \n",
      "                                                                 \n",
      " dropout (Dropout)           (None, 49408)             0         \n",
      "                                                                 \n",
      " dense (Dense)               (None, 6)                 296454    \n",
      "                                                                 \n",
      "=================================================================\n",
      "Total params: 329,482\n",
      "Trainable params: 329,480\n",
      "Non-trainable params: 2\n",
      "_________________________________________________________________\n",
      "None\n"
     ]
    }
   ],
   "source": [
    "# create the model\n",
    "model = model_cnn()\n",
    "print(model.summary())"
   ]
  },
  {
   "cell_type": "code",
   "execution_count": 9,
   "metadata": {
    "executionInfo": {
     "elapsed": 790,
     "status": "ok",
     "timestamp": 1638778868683,
     "user": {
      "displayName": "Andhika Rufty Pratiwi",
      "photoUrl": "https://lh3.googleusercontent.com/a-/AOh14GhtVqJx-fNCm3R6hUH2jhdMcFw30fZ6Zz2P5gDL=s64",
      "userId": "18408695516298851121"
     },
     "user_tz": -480
    },
    "id": "D2WuAQzVwLn3"
   },
   "outputs": [],
   "source": [
    "# plot model\n",
    "tf.keras.utils.plot_model(model,'cnn_model_sd.pdf',show_shapes=True)"
   ]
  },
  {
   "cell_type": "code",
   "execution_count": 10,
   "metadata": {
    "colab": {
     "base_uri": "https://localhost:8080/"
    },
    "executionInfo": {
     "elapsed": 322543,
     "status": "ok",
     "timestamp": 1638779191205,
     "user": {
      "displayName": "Andhika Rufty Pratiwi",
      "photoUrl": "https://lh3.googleusercontent.com/a-/AOh14GhtVqJx-fNCm3R6hUH2jhdMcFw30fZ6Zz2P5gDL=s64",
      "userId": "18408695516298851121"
     },
     "user_tz": -480
    },
    "id": "gNM1BDuVwNqr",
    "outputId": "155776a8-deab-4b19-a865-e78ffd75ddc6"
   },
   "outputs": [
    {
     "name": "stdout",
     "output_type": "stream",
     "text": [
      "Epoch 1/100\n",
      "52/52 [==============================] - 4s 66ms/step - loss: 1.7574 - accuracy: 0.2967 - val_loss: 1.6164 - val_accuracy: 0.4396\n",
      "Epoch 2/100\n",
      "52/52 [==============================] - 3s 61ms/step - loss: 1.5010 - accuracy: 0.3724 - val_loss: 1.6284 - val_accuracy: 0.4396\n",
      "Epoch 3/100\n",
      "52/52 [==============================] - 3s 61ms/step - loss: 1.4491 - accuracy: 0.4029 - val_loss: 1.6714 - val_accuracy: 0.3187\n",
      "Epoch 4/100\n",
      "52/52 [==============================] - 3s 63ms/step - loss: 1.2840 - accuracy: 0.5128 - val_loss: 1.3636 - val_accuracy: 0.4835\n",
      "Epoch 5/100\n",
      "52/52 [==============================] - 3s 60ms/step - loss: 1.0999 - accuracy: 0.5836 - val_loss: 1.1189 - val_accuracy: 0.5385\n",
      "Epoch 6/100\n",
      "52/52 [==============================] - 3s 60ms/step - loss: 0.9893 - accuracy: 0.6129 - val_loss: 1.3223 - val_accuracy: 0.4725\n",
      "Epoch 7/100\n",
      "52/52 [==============================] - 3s 60ms/step - loss: 0.9212 - accuracy: 0.6654 - val_loss: 0.9616 - val_accuracy: 0.6264\n",
      "Epoch 8/100\n",
      "52/52 [==============================] - 3s 60ms/step - loss: 0.9627 - accuracy: 0.6484 - val_loss: 0.7854 - val_accuracy: 0.7143\n",
      "Epoch 9/100\n",
      "52/52 [==============================] - 3s 60ms/step - loss: 0.7831 - accuracy: 0.7009 - val_loss: 0.8391 - val_accuracy: 0.5934\n",
      "Epoch 10/100\n",
      "52/52 [==============================] - 3s 61ms/step - loss: 0.7758 - accuracy: 0.7167 - val_loss: 0.7961 - val_accuracy: 0.7253\n",
      "Epoch 11/100\n",
      "52/52 [==============================] - 3s 60ms/step - loss: 0.7298 - accuracy: 0.7338 - val_loss: 0.6715 - val_accuracy: 0.7582\n",
      "Epoch 12/100\n",
      "52/52 [==============================] - 3s 60ms/step - loss: 0.6657 - accuracy: 0.7546 - val_loss: 0.5957 - val_accuracy: 0.7912\n",
      "Epoch 13/100\n",
      "52/52 [==============================] - 3s 60ms/step - loss: 0.6405 - accuracy: 0.7497 - val_loss: 0.6253 - val_accuracy: 0.7253\n",
      "Epoch 14/100\n",
      "52/52 [==============================] - 3s 62ms/step - loss: 0.5675 - accuracy: 0.7741 - val_loss: 0.6762 - val_accuracy: 0.6923\n",
      "Epoch 15/100\n",
      "52/52 [==============================] - 3s 61ms/step - loss: 0.6060 - accuracy: 0.7643 - val_loss: 0.5840 - val_accuracy: 0.7802\n",
      "Epoch 16/100\n",
      "52/52 [==============================] - 3s 62ms/step - loss: 0.6348 - accuracy: 0.7631 - val_loss: 0.5883 - val_accuracy: 0.7802\n",
      "Epoch 17/100\n",
      "52/52 [==============================] - 3s 63ms/step - loss: 0.6544 - accuracy: 0.7375 - val_loss: 0.5467 - val_accuracy: 0.8022\n",
      "Epoch 18/100\n",
      "52/52 [==============================] - 3s 62ms/step - loss: 0.5899 - accuracy: 0.7570 - val_loss: 0.5555 - val_accuracy: 0.7692\n",
      "Epoch 19/100\n",
      "52/52 [==============================] - 3s 60ms/step - loss: 0.5675 - accuracy: 0.7888 - val_loss: 0.6793 - val_accuracy: 0.6703\n",
      "Epoch 20/100\n",
      "52/52 [==============================] - 3s 60ms/step - loss: 0.5234 - accuracy: 0.7998 - val_loss: 0.5842 - val_accuracy: 0.7473\n",
      "Epoch 21/100\n",
      "52/52 [==============================] - 3s 60ms/step - loss: 0.5937 - accuracy: 0.7863 - val_loss: 0.8160 - val_accuracy: 0.6593\n",
      "Epoch 22/100\n",
      "52/52 [==============================] - 3s 61ms/step - loss: 0.5447 - accuracy: 0.7875 - val_loss: 0.6442 - val_accuracy: 0.7143\n",
      "Epoch 23/100\n",
      "52/52 [==============================] - 3s 63ms/step - loss: 0.5998 - accuracy: 0.7607 - val_loss: 0.6950 - val_accuracy: 0.7363\n",
      "Epoch 24/100\n",
      "52/52 [==============================] - 3s 64ms/step - loss: 0.5241 - accuracy: 0.7961 - val_loss: 0.5793 - val_accuracy: 0.7363\n",
      "Epoch 25/100\n",
      "52/52 [==============================] - 3s 64ms/step - loss: 0.5250 - accuracy: 0.8059 - val_loss: 0.4893 - val_accuracy: 0.8352\n",
      "Epoch 26/100\n",
      "52/52 [==============================] - 3s 63ms/step - loss: 0.4918 - accuracy: 0.8071 - val_loss: 0.6115 - val_accuracy: 0.7582\n",
      "Epoch 27/100\n",
      "52/52 [==============================] - 3s 63ms/step - loss: 0.5845 - accuracy: 0.7875 - val_loss: 0.4962 - val_accuracy: 0.7912\n",
      "Epoch 28/100\n",
      "52/52 [==============================] - 3s 64ms/step - loss: 0.5751 - accuracy: 0.7863 - val_loss: 0.6965 - val_accuracy: 0.7363\n",
      "Epoch 29/100\n",
      "52/52 [==============================] - 3s 64ms/step - loss: 0.6151 - accuracy: 0.7631 - val_loss: 0.6019 - val_accuracy: 0.7143\n",
      "Epoch 30/100\n",
      "52/52 [==============================] - 3s 64ms/step - loss: 0.5291 - accuracy: 0.7961 - val_loss: 0.7571 - val_accuracy: 0.7253\n",
      "Epoch 31/100\n",
      "52/52 [==============================] - 3s 65ms/step - loss: 0.4686 - accuracy: 0.8181 - val_loss: 0.5857 - val_accuracy: 0.7582\n",
      "Epoch 32/100\n",
      "52/52 [==============================] - 3s 66ms/step - loss: 0.4696 - accuracy: 0.8181 - val_loss: 0.5849 - val_accuracy: 0.7363\n",
      "Epoch 33/100\n",
      "52/52 [==============================] - 3s 66ms/step - loss: 0.4215 - accuracy: 0.8425 - val_loss: 0.5359 - val_accuracy: 0.7363\n",
      "Epoch 34/100\n",
      "52/52 [==============================] - 3s 66ms/step - loss: 0.4100 - accuracy: 0.8449 - val_loss: 0.5436 - val_accuracy: 0.8132\n",
      "Epoch 35/100\n",
      "52/52 [==============================] - 3s 65ms/step - loss: 0.4082 - accuracy: 0.8474 - val_loss: 0.6673 - val_accuracy: 0.7363\n",
      "Epoch 36/100\n",
      "52/52 [==============================] - 3s 66ms/step - loss: 0.4693 - accuracy: 0.8230 - val_loss: 0.5177 - val_accuracy: 0.7692\n",
      "Epoch 37/100\n",
      "52/52 [==============================] - 3s 65ms/step - loss: 0.3517 - accuracy: 0.8706 - val_loss: 0.3930 - val_accuracy: 0.8571\n",
      "Epoch 38/100\n",
      "52/52 [==============================] - 3s 65ms/step - loss: 0.3625 - accuracy: 0.8571 - val_loss: 0.4363 - val_accuracy: 0.8132\n",
      "Epoch 39/100\n",
      "52/52 [==============================] - 3s 65ms/step - loss: 0.3459 - accuracy: 0.8755 - val_loss: 0.5697 - val_accuracy: 0.7253\n",
      "Epoch 40/100\n",
      "52/52 [==============================] - 3s 65ms/step - loss: 0.4237 - accuracy: 0.8437 - val_loss: 0.6196 - val_accuracy: 0.7802\n",
      "Epoch 41/100\n",
      "52/52 [==============================] - 3s 66ms/step - loss: 0.4181 - accuracy: 0.8376 - val_loss: 0.4988 - val_accuracy: 0.8462\n",
      "Epoch 42/100\n",
      "52/52 [==============================] - 3s 65ms/step - loss: 0.3965 - accuracy: 0.8413 - val_loss: 0.5394 - val_accuracy: 0.8571\n",
      "Epoch 43/100\n",
      "52/52 [==============================] - 3s 65ms/step - loss: 0.3675 - accuracy: 0.8510 - val_loss: 0.5159 - val_accuracy: 0.8352\n",
      "Epoch 44/100\n",
      "52/52 [==============================] - 3s 65ms/step - loss: 0.4400 - accuracy: 0.8181 - val_loss: 0.5754 - val_accuracy: 0.7143\n",
      "Epoch 45/100\n",
      "52/52 [==============================] - 3s 65ms/step - loss: 0.4411 - accuracy: 0.8364 - val_loss: 0.4123 - val_accuracy: 0.8462\n",
      "Epoch 46/100\n",
      "52/52 [==============================] - 3s 64ms/step - loss: 0.4128 - accuracy: 0.8449 - val_loss: 0.4023 - val_accuracy: 0.8242\n",
      "Epoch 47/100\n",
      "52/52 [==============================] - 3s 59ms/step - loss: 0.3288 - accuracy: 0.8755 - val_loss: 0.6093 - val_accuracy: 0.7473\n",
      "Epoch 48/100\n",
      "52/52 [==============================] - 3s 61ms/step - loss: 0.3418 - accuracy: 0.8657 - val_loss: 0.3946 - val_accuracy: 0.8681\n",
      "Epoch 49/100\n",
      "52/52 [==============================] - 3s 57ms/step - loss: 0.3276 - accuracy: 0.8718 - val_loss: 0.4089 - val_accuracy: 0.8791\n",
      "Epoch 50/100\n",
      "52/52 [==============================] - 3s 58ms/step - loss: 0.3043 - accuracy: 0.8828 - val_loss: 0.4734 - val_accuracy: 0.8022\n",
      "Epoch 51/100\n",
      "52/52 [==============================] - 3s 62ms/step - loss: 0.3556 - accuracy: 0.8571 - val_loss: 0.3774 - val_accuracy: 0.8791\n",
      "Epoch 52/100\n",
      "52/52 [==============================] - 3s 59ms/step - loss: 0.3183 - accuracy: 0.8730 - val_loss: 0.9154 - val_accuracy: 0.6484\n",
      "Epoch 53/100\n",
      "52/52 [==============================] - 3s 59ms/step - loss: 0.3762 - accuracy: 0.8571 - val_loss: 0.4689 - val_accuracy: 0.8462\n",
      "Epoch 54/100\n",
      "52/52 [==============================] - 3s 62ms/step - loss: 0.4226 - accuracy: 0.8352 - val_loss: 0.5240 - val_accuracy: 0.7692\n",
      "Epoch 55/100\n",
      "52/52 [==============================] - 3s 63ms/step - loss: 0.3869 - accuracy: 0.8376 - val_loss: 0.3921 - val_accuracy: 0.8352\n",
      "Epoch 56/100\n",
      "52/52 [==============================] - 3s 59ms/step - loss: 0.3059 - accuracy: 0.8742 - val_loss: 0.4403 - val_accuracy: 0.8791\n",
      "Epoch 57/100\n",
      "52/52 [==============================] - 3s 60ms/step - loss: 0.3158 - accuracy: 0.8718 - val_loss: 0.4850 - val_accuracy: 0.8132\n",
      "Epoch 58/100\n",
      "52/52 [==============================] - 3s 59ms/step - loss: 0.3634 - accuracy: 0.8620 - val_loss: 0.4110 - val_accuracy: 0.8791\n",
      "Epoch 59/100\n",
      "52/52 [==============================] - 3s 58ms/step - loss: 0.3673 - accuracy: 0.8620 - val_loss: 0.6433 - val_accuracy: 0.7582\n",
      "Epoch 60/100\n",
      "52/52 [==============================] - 3s 60ms/step - loss: 0.3460 - accuracy: 0.8559 - val_loss: 0.9413 - val_accuracy: 0.6264\n",
      "Epoch 61/100\n",
      "52/52 [==============================] - 3s 61ms/step - loss: 0.3682 - accuracy: 0.8608 - val_loss: 0.5401 - val_accuracy: 0.8022\n",
      "Epoch 62/100\n",
      "52/52 [==============================] - 3s 60ms/step - loss: 0.2744 - accuracy: 0.8901 - val_loss: 0.6513 - val_accuracy: 0.7363\n",
      "Epoch 63/100\n",
      "52/52 [==============================] - 3s 59ms/step - loss: 0.2971 - accuracy: 0.8877 - val_loss: 0.4710 - val_accuracy: 0.8242\n",
      "Epoch 64/100\n",
      "52/52 [==============================] - 3s 61ms/step - loss: 0.3324 - accuracy: 0.8608 - val_loss: 0.4283 - val_accuracy: 0.8462\n",
      "Epoch 65/100\n",
      "52/52 [==============================] - 3s 64ms/step - loss: 0.3785 - accuracy: 0.8437 - val_loss: 0.5023 - val_accuracy: 0.8132\n",
      "Epoch 66/100\n",
      "52/52 [==============================] - 3s 61ms/step - loss: 0.3956 - accuracy: 0.8462 - val_loss: 0.5365 - val_accuracy: 0.8132\n",
      "Epoch 67/100\n",
      "52/52 [==============================] - 3s 63ms/step - loss: 0.3060 - accuracy: 0.8852 - val_loss: 0.4769 - val_accuracy: 0.8352\n",
      "Epoch 68/100\n",
      "52/52 [==============================] - 3s 60ms/step - loss: 0.3221 - accuracy: 0.8803 - val_loss: 0.5782 - val_accuracy: 0.7582\n",
      "Epoch 69/100\n",
      "52/52 [==============================] - 3s 62ms/step - loss: 0.4268 - accuracy: 0.8303 - val_loss: 0.4156 - val_accuracy: 0.8571\n",
      "Epoch 70/100\n",
      "52/52 [==============================] - 3s 61ms/step - loss: 0.2627 - accuracy: 0.9023 - val_loss: 0.3967 - val_accuracy: 0.8681\n",
      "Epoch 71/100\n",
      "52/52 [==============================] - 3s 60ms/step - loss: 0.2400 - accuracy: 0.9170 - val_loss: 0.4154 - val_accuracy: 0.9231\n",
      "Epoch 72/100\n",
      "52/52 [==============================] - 3s 61ms/step - loss: 0.2649 - accuracy: 0.8974 - val_loss: 0.4276 - val_accuracy: 0.8571\n",
      "Epoch 73/100\n",
      "52/52 [==============================] - 3s 62ms/step - loss: 0.2351 - accuracy: 0.9206 - val_loss: 0.4289 - val_accuracy: 0.8352\n",
      "Epoch 74/100\n",
      "52/52 [==============================] - 3s 61ms/step - loss: 0.3042 - accuracy: 0.8767 - val_loss: 0.4395 - val_accuracy: 0.8681\n",
      "Epoch 75/100\n",
      "52/52 [==============================] - 3s 61ms/step - loss: 0.2616 - accuracy: 0.8987 - val_loss: 0.7749 - val_accuracy: 0.6593\n",
      "Epoch 76/100\n",
      "52/52 [==============================] - 3s 62ms/step - loss: 0.2210 - accuracy: 0.9158 - val_loss: 0.3924 - val_accuracy: 0.8901\n",
      "Epoch 77/100\n",
      "52/52 [==============================] - 3s 62ms/step - loss: 0.3233 - accuracy: 0.8803 - val_loss: 0.4281 - val_accuracy: 0.8791\n",
      "Epoch 78/100\n",
      "52/52 [==============================] - 3s 62ms/step - loss: 0.2794 - accuracy: 0.9035 - val_loss: 0.5520 - val_accuracy: 0.7802\n",
      "Epoch 79/100\n",
      "52/52 [==============================] - 3s 61ms/step - loss: 0.2698 - accuracy: 0.9072 - val_loss: 0.5532 - val_accuracy: 0.8242\n",
      "Epoch 80/100\n",
      "52/52 [==============================] - 3s 61ms/step - loss: 0.2667 - accuracy: 0.8938 - val_loss: 0.4831 - val_accuracy: 0.8352\n",
      "Epoch 81/100\n",
      "52/52 [==============================] - 3s 61ms/step - loss: 0.4318 - accuracy: 0.8523 - val_loss: 0.4358 - val_accuracy: 0.8681\n",
      "Epoch 82/100\n",
      "52/52 [==============================] - 3s 60ms/step - loss: 0.3618 - accuracy: 0.8645 - val_loss: 0.6096 - val_accuracy: 0.8132\n",
      "Epoch 83/100\n",
      "52/52 [==============================] - 3s 62ms/step - loss: 0.3234 - accuracy: 0.8816 - val_loss: 0.4226 - val_accuracy: 0.9011\n",
      "Epoch 84/100\n",
      "52/52 [==============================] - 3s 60ms/step - loss: 0.3416 - accuracy: 0.8657 - val_loss: 0.4279 - val_accuracy: 0.8571\n",
      "Epoch 85/100\n",
      "52/52 [==============================] - 3s 62ms/step - loss: 0.2082 - accuracy: 0.9121 - val_loss: 0.5578 - val_accuracy: 0.8022\n",
      "Epoch 86/100\n",
      "52/52 [==============================] - 3s 62ms/step - loss: 0.2792 - accuracy: 0.8852 - val_loss: 0.4541 - val_accuracy: 0.8352\n",
      "Epoch 87/100\n",
      "52/52 [==============================] - 3s 61ms/step - loss: 0.2485 - accuracy: 0.9072 - val_loss: 0.5392 - val_accuracy: 0.8242\n",
      "Epoch 88/100\n",
      "52/52 [==============================] - 3s 62ms/step - loss: 0.2506 - accuracy: 0.8999 - val_loss: 0.3755 - val_accuracy: 0.9011\n",
      "Epoch 89/100\n",
      "52/52 [==============================] - 3s 62ms/step - loss: 0.2552 - accuracy: 0.8889 - val_loss: 0.3756 - val_accuracy: 0.8791\n",
      "Epoch 90/100\n",
      "52/52 [==============================] - 3s 61ms/step - loss: 0.2764 - accuracy: 0.8852 - val_loss: 0.3749 - val_accuracy: 0.9011\n",
      "Epoch 91/100\n",
      "52/52 [==============================] - 3s 62ms/step - loss: 0.2254 - accuracy: 0.9170 - val_loss: 0.4185 - val_accuracy: 0.8681\n",
      "Epoch 92/100\n",
      "52/52 [==============================] - 3s 63ms/step - loss: 0.2320 - accuracy: 0.9133 - val_loss: 0.5921 - val_accuracy: 0.7802\n",
      "Epoch 93/100\n",
      "52/52 [==============================] - 3s 62ms/step - loss: 0.2905 - accuracy: 0.8901 - val_loss: 0.5114 - val_accuracy: 0.8571\n",
      "Epoch 94/100\n",
      "52/52 [==============================] - 3s 61ms/step - loss: 0.3020 - accuracy: 0.8840 - val_loss: 0.6311 - val_accuracy: 0.8132\n",
      "Epoch 95/100\n",
      "52/52 [==============================] - 3s 63ms/step - loss: 0.2759 - accuracy: 0.8877 - val_loss: 0.3918 - val_accuracy: 0.8791\n",
      "Epoch 96/100\n",
      "52/52 [==============================] - 3s 63ms/step - loss: 0.3440 - accuracy: 0.8730 - val_loss: 0.3340 - val_accuracy: 0.9011\n",
      "Epoch 97/100\n",
      "52/52 [==============================] - 3s 62ms/step - loss: 0.3053 - accuracy: 0.8816 - val_loss: 0.5925 - val_accuracy: 0.8132\n",
      "Epoch 98/100\n",
      "52/52 [==============================] - 3s 62ms/step - loss: 0.2459 - accuracy: 0.9048 - val_loss: 0.4541 - val_accuracy: 0.8901\n",
      "Epoch 99/100\n",
      "52/52 [==============================] - 3s 62ms/step - loss: 0.2663 - accuracy: 0.9035 - val_loss: 0.4935 - val_accuracy: 0.8901\n",
      "Epoch 100/100\n",
      "52/52 [==============================] - 3s 61ms/step - loss: 0.2224 - accuracy: 0.9158 - val_loss: 0.5739 - val_accuracy: 0.8242\n"
     ]
    }
   ],
   "source": [
    "# train the model\n",
    "hist = model.fit(x_train, \n",
    "                 y_train, \n",
    "                 epochs=100, \n",
    "                 shuffle=True,\n",
    "                 #callbacks=earlystop,\n",
    "                 validation_split=0.1,\n",
    "                 batch_size=16)"
   ]
  },
  {
   "cell_type": "code",
   "execution_count": 11,
   "metadata": {
    "colab": {
     "base_uri": "https://localhost:8080/"
    },
    "executionInfo": {
     "elapsed": 29,
     "status": "ok",
     "timestamp": 1638779191208,
     "user": {
      "displayName": "Andhika Rufty Pratiwi",
      "photoUrl": "https://lh3.googleusercontent.com/a-/AOh14GhtVqJx-fNCm3R6hUH2jhdMcFw30fZ6Zz2P5gDL=s64",
      "userId": "18408695516298851121"
     },
     "user_tz": -480
    },
    "id": "u_SQLOZrwPLh",
    "outputId": "2edf1601-2e9d-43a9-a784-85d849fccf02"
   },
   "outputs": [
    {
     "name": "stdout",
     "output_type": "stream",
     "text": [
      "7/7 [==============================] - 0s 12ms/step - loss: 0.4201 - accuracy: 0.8431\n",
      "Loss=0.420140, Accuracy=0.843137\n"
     ]
    }
   ],
   "source": [
    "# evaluate the model on test partition\n",
    "evaluate = model.evaluate(x_test, y_test, batch_size=16)\n",
    "print(\"Loss={:.6f}, Accuracy={:.6f}\".format(evaluate[0],evaluate[1]))"
   ]
  },
  {
   "cell_type": "code",
   "execution_count": 12,
   "metadata": {
    "colab": {
     "base_uri": "https://localhost:8080/",
     "height": 295
    },
    "executionInfo": {
     "elapsed": 1014,
     "status": "ok",
     "timestamp": 1638779192212,
     "user": {
      "displayName": "Andhika Rufty Pratiwi",
      "photoUrl": "https://lh3.googleusercontent.com/a-/AOh14GhtVqJx-fNCm3R6hUH2jhdMcFw30fZ6Zz2P5gDL=s64",
      "userId": "18408695516298851121"
     },
     "user_tz": -480
    },
    "id": "JcEYLDN5wSph",
    "outputId": "a53cbd7b-9ac5-46ff-867f-10e8fa708f02"
   },
   "outputs": [
    {
     "data": {
      "image/png": "[encoded data removed]",
      "text/plain": [
       "<Figure size 432x288 with 1 Axes>"
      ]
     },
     "metadata": {
      "needs_background": "light"
     },
     "output_type": "display_data"
    }
   ],
   "source": [
    "# plot accuracy\n",
    "plt.figure()\n",
    "plt.plot(hist.history['accuracy'])\n",
    "plt.plot(hist.history['val_accuracy'])\n",
    "plt.grid()\n",
    "plt.legend(['Training', 'Validation'])\n",
    "plt.xlabel('Epoch')\n",
    "plt.ylabel('Accuracy')\n",
    "plt.title('CNN Model')\n",
    "plt.savefig('cnn_accuracy_sd.svg')"
   ]
  },
  {
   "cell_type": "code",
   "execution_count": 13,
   "metadata": {
    "colab": {
     "base_uri": "https://localhost:8080/",
     "height": 390
    },
    "executionInfo": {
     "elapsed": 524,
     "status": "ok",
     "timestamp": 1638779192715,
     "user": {
      "displayName": "Andhika Rufty Pratiwi",
      "photoUrl": "https://lh3.googleusercontent.com/a-/AOh14GhtVqJx-fNCm3R6hUH2jhdMcFw30fZ6Zz2P5gDL=s64",
      "userId": "18408695516298851121"
     },
     "user_tz": -480
    },
    "id": "Aeio3Y2kwUo8",
    "outputId": "1b7b2f77-9fa9-41f8-fa07-b6887dfab65d"
   },
   "outputs": [
    {
     "data": {
      "image/png": "[encoded data removed]",
      "text/plain": [
       "<Figure size 720x432 with 2 Axes>"
      ]
     },
     "metadata": {
      "needs_background": "light"
     },
     "output_type": "display_data"
    }
   ],
   "source": [
    "# make prediction for confusion_matrix\n",
    "import os\n",
    "from sklearn.metrics import confusion_matrix\n",
    "import seaborn as sns\n",
    "import pandas as pd\n",
    "predict = model.predict(x_test, batch_size=16)\n",
    "emotions=['neutral', 'calm', 'happy', 'sad', 'angry', 'fearful']\n",
    "\n",
    "# predicted emotions from the test set\n",
    "y_pred = np.argmax(predict, 1)\n",
    "predicted_emo = []\n",
    "for i in range(0,y_test.shape[0]):\n",
    "    emo = emotions[y_pred[i]]\n",
    "    predicted_emo.append(emo)\n",
    "\n",
    "# get actual emotion\n",
    "actual_emo = []\n",
    "y_true = y_test\n",
    "for i in range(0,y_test.shape[0]):\n",
    "    emo = emotions[y_true[i]]\n",
    "    actual_emo.append(emo)\n",
    "\n",
    "# generate the confusion matrix\n",
    "cm = confusion_matrix(actual_emo, predicted_emo)\n",
    "cm = cm.astype('float') / cm.sum(axis=1)[:, np.newaxis]\n",
    "\n",
    "index = ['neutral', 'calm', 'happy', 'sad', 'angry', 'fearful']\n",
    "columns = ['neutral', 'calm', 'happy', 'sad', 'angry', 'fearful']\n",
    "cm_df = pd.DataFrame(cm, index, columns)\n",
    "plt.figure(figsize=(10, 6))\n",
    "plt.title('Confusion Matrix of CNN')\n",
    "sns.heatmap(cm_df, annot=True)\n",
    "plt.savefig('cnn_cm_sd.svg')"
   ]
  },
  {
   "cell_type": "code",
   "execution_count": 14,
   "metadata": {
    "colab": {
     "base_uri": "https://localhost:8080/"
    },
    "executionInfo": {
     "elapsed": 30,
     "status": "ok",
     "timestamp": 1638779192717,
     "user": {
      "displayName": "Andhika Rufty Pratiwi",
      "photoUrl": "https://lh3.googleusercontent.com/a-/AOh14GhtVqJx-fNCm3R6hUH2jhdMcFw30fZ6Zz2P5gDL=s64",
      "userId": "18408695516298851121"
     },
     "user_tz": -480
    },
    "id": "PZJ1T6A0wWg7",
    "outputId": "7d7eb18e-a83d-4e5e-fa8b-940a3ed31722"
   },
   "outputs": [
    {
     "name": "stdout",
     "output_type": "stream",
     "text": [
      "UAR:  0.8383838383838383\n"
     ]
    }
   ],
   "source": [
    "# print unweighted average recall\n",
    "print(\"UAR: \", cm.trace()/cm.shape[0])"
   ]
  },
  {
   "cell_type": "code",
   "execution_count": 14,
   "metadata": {
    "executionInfo": {
     "elapsed": 25,
     "status": "ok",
     "timestamp": 1638779192719,
     "user": {
      "displayName": "Andhika Rufty Pratiwi",
      "photoUrl": "https://lh3.googleusercontent.com/a-/AOh14GhtVqJx-fNCm3R6hUH2jhdMcFw30fZ6Zz2P5gDL=s64",
      "userId": "18408695516298851121"
     },
     "user_tz": -480
    },
    "id": "wI3Dp_xzwYHh"
   },
   "outputs": [],
   "source": []
  }
 ],
 "metadata": {
  "colab": {
   "name": "cnn_sd.ipynb",
   "provenance": []
  },
  "kernelspec": {
   "display_name": "Python 3 (ipykernel)",
   "language": "python",
   "name": "python3"
  },
  "language_info": {
   "codemirror_mode": {
    "name": "ipython",
    "version": 3
   },
   "file_extension": ".py",
   "mimetype": "text/x-python",
   "name": "python",
   "nbconvert_exporter": "python",
   "pygments_lexer": "ipython3",
   "version": "3.10.4"
  }
 },
 "nbformat": 4,
 "nbformat_minor": 1
}
