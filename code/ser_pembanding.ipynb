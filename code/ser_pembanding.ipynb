{
  "nbformat": 4,
  "nbformat_minor": 0,
  "metadata": {
    "colab": {
      "name": "ser_pembanding.ipynb",
      "provenance": [],
      "collapsed_sections": []
    },
    "kernelspec": {
      "name": "python3",
      "display_name": "Python 3"
    },
    "language_info": {
      "name": "python"
    }
  },
  "cells": [
    {
      "cell_type": "markdown",
      "metadata": {
        "id": "OQPt5cdfNkK2"
      },
      "source": [
        "**1. Import dataset TESS (Toronto\n",
        "Emotional Speech Set)**"
      ]
    },
    {
      "cell_type": "code",
      "metadata": {
        "colab": {
          "base_uri": "https://localhost:8080/"
        },
        "id": "qwqSfkXmNone",
        "outputId": "4bba0ae0-5279-4049-a4ad-09ec0701d95a"
      },
      "source": [
        "from google.colab import drive\n",
        "drive.mount('/content/drive')\n",
        "%cd /content/drive/MyDrive/kerja_praktik/data/dataverse_files"
      ],
      "execution_count": 1,
      "outputs": [
        {
          "output_type": "stream",
          "name": "stdout",
          "text": [
            "Mounted at /content/drive\n",
            "/content/drive/MyDrive/kerja_praktik/data/dataverse_files\n"
          ]
        }
      ]
    },
    {
      "cell_type": "code",
      "metadata": {
        "colab": {
          "base_uri": "https://localhost:8080/",
          "height": 35
        },
        "id": "10Q8vcf3Tdn0",
        "outputId": "e4c3a137-10cb-408c-d912-b549ffa311c2"
      },
      "source": [
        "pwd"
      ],
      "execution_count": 2,
      "outputs": [
        {
          "output_type": "execute_result",
          "data": {
            "application/vnd.google.colaboratory.intrinsic+json": {
              "type": "string"
            },
            "text/plain": [
              "'/content/drive/MyDrive/kerja_praktik/data/dataverse_files'"
            ]
          },
          "metadata": {},
          "execution_count": 2
        }
      ]
    },
    {
      "cell_type": "markdown",
      "metadata": {
        "id": "yBoFs5L6vZ0_"
      },
      "source": [
        "**2. Import library**"
      ]
    },
    {
      "cell_type": "code",
      "metadata": {
        "id": "dR8Hgsq3vDuW"
      },
      "source": [
        "import librosa\n",
        "import librosa.display\n",
        "import matplotlib.pyplot as plt\n",
        "import os\n",
        "import pandas as pd\n",
        "import glob\n",
        "import re\n",
        "import numpy as np\n",
        "from sklearn.preprocessing import LabelEncoder\n",
        "from tensorflow.keras.utils import to_categorical\n",
        "from sklearn.model_selection import train_test_split\n",
        "import tensorflow as tf\n",
        "from keras.models import Model, Sequential\n",
        "from keras.layers import Flatten, Dense, Dropout, Activation\n"
      ],
      "execution_count": 3,
      "outputs": []
    },
    {
      "cell_type": "markdown",
      "metadata": {
        "id": "MYE4hTdBvdc8"
      },
      "source": [
        "**3. Pembuatan dataframe**\n",
        "\n",
        "Membuat kerangka data dari file dalam dataset"
      ]
    },
    {
      "cell_type": "code",
      "metadata": {
        "id": "oS70IioyyisD"
      },
      "source": [
        "df = pd.DataFrame(columns=[\"Path\", \"Age\", \"Emotion\", \"Class\"])\n",
        "for file in glob.glob(\"*.wav\"):\n",
        "  age = re.findall(\"YAF|OAF\",file)\n",
        "  emotion = re.findall(\"[_][a-z]*\", file)[1][1:]\n",
        "  if age == \"OAF\":\n",
        "    age = \"Old\"\n",
        "    category = \"Old and \"+emotion\n",
        "  else:\n",
        "    age = \"Young\"\n",
        "    category = \"Young and \"+emotion\n",
        "  df = df.append({\"Path\":file,\"Age\":age,\"Emotion\":emotion,\"Class\":category},ignore_index=True)"
      ],
      "execution_count": 4,
      "outputs": []
    },
    {
      "cell_type": "markdown",
      "metadata": {
        "id": "MOKQ22W0d78w"
      },
      "source": [
        "**4. Penampilan Dataframe**"
      ]
    },
    {
      "cell_type": "code",
      "metadata": {
        "id": "sjSk-RvdvWL-",
        "colab": {
          "base_uri": "https://localhost:8080/",
          "height": 419
        },
        "outputId": "f3c61936-4e62-4e31-fb26-c631223f3ed4"
      },
      "source": [
        "df"
      ],
      "execution_count": 5,
      "outputs": [
        {
          "output_type": "execute_result",
          "data": {
            "text/html": [
              "<div>\n",
              "<style scoped>\n",
              "    .dataframe tbody tr th:only-of-type {\n",
              "        vertical-align: middle;\n",
              "    }\n",
              "\n",
              "    .dataframe tbody tr th {\n",
              "        vertical-align: top;\n",
              "    }\n",
              "\n",
              "    .dataframe thead th {\n",
              "        text-align: right;\n",
              "    }\n",
              "</style>\n",
              "<table border=\"1\" class=\"dataframe\">\n",
              "  <thead>\n",
              "    <tr style=\"text-align: right;\">\n",
              "      <th></th>\n",
              "      <th>Path</th>\n",
              "      <th>Age</th>\n",
              "      <th>Emotion</th>\n",
              "      <th>Class</th>\n",
              "    </tr>\n",
              "  </thead>\n",
              "  <tbody>\n",
              "    <tr>\n",
              "      <th>0</th>\n",
              "      <td>YAF_hate_sad.wav</td>\n",
              "      <td>Young</td>\n",
              "      <td>sad</td>\n",
              "      <td>Young and sad</td>\n",
              "    </tr>\n",
              "    <tr>\n",
              "      <th>1</th>\n",
              "      <td>YAF_hate_happy.wav</td>\n",
              "      <td>Young</td>\n",
              "      <td>happy</td>\n",
              "      <td>Young and happy</td>\n",
              "    </tr>\n",
              "    <tr>\n",
              "      <th>2</th>\n",
              "      <td>YAF_have_angry.wav</td>\n",
              "      <td>Young</td>\n",
              "      <td>angry</td>\n",
              "      <td>Young and angry</td>\n",
              "    </tr>\n",
              "    <tr>\n",
              "      <th>3</th>\n",
              "      <td>YAF_hate_disgust.wav</td>\n",
              "      <td>Young</td>\n",
              "      <td>disgust</td>\n",
              "      <td>Young and disgust</td>\n",
              "    </tr>\n",
              "    <tr>\n",
              "      <th>4</th>\n",
              "      <td>YAF_hate_fear.wav</td>\n",
              "      <td>Young</td>\n",
              "      <td>fear</td>\n",
              "      <td>Young and fear</td>\n",
              "    </tr>\n",
              "    <tr>\n",
              "      <th>...</th>\n",
              "      <td>...</td>\n",
              "      <td>...</td>\n",
              "      <td>...</td>\n",
              "      <td>...</td>\n",
              "    </tr>\n",
              "    <tr>\n",
              "      <th>2795</th>\n",
              "      <td>OAF_note_ps.wav</td>\n",
              "      <td>Young</td>\n",
              "      <td>ps</td>\n",
              "      <td>Young and ps</td>\n",
              "    </tr>\n",
              "    <tr>\n",
              "      <th>2796</th>\n",
              "      <td>OAF_numb_angry.wav</td>\n",
              "      <td>Young</td>\n",
              "      <td>angry</td>\n",
              "      <td>Young and angry</td>\n",
              "    </tr>\n",
              "    <tr>\n",
              "      <th>2797</th>\n",
              "      <td>OAF_note_happy.wav</td>\n",
              "      <td>Young</td>\n",
              "      <td>happy</td>\n",
              "      <td>Young and happy</td>\n",
              "    </tr>\n",
              "    <tr>\n",
              "      <th>2798</th>\n",
              "      <td>OAF_pad_ps.wav</td>\n",
              "      <td>Young</td>\n",
              "      <td>ps</td>\n",
              "      <td>Young and ps</td>\n",
              "    </tr>\n",
              "    <tr>\n",
              "      <th>2799</th>\n",
              "      <td>OAF_pad_neutral.wav</td>\n",
              "      <td>Young</td>\n",
              "      <td>neutral</td>\n",
              "      <td>Young and neutral</td>\n",
              "    </tr>\n",
              "  </tbody>\n",
              "</table>\n",
              "<p>2800 rows × 4 columns</p>\n",
              "</div>"
            ],
            "text/plain": [
              "                      Path    Age  Emotion              Class\n",
              "0         YAF_hate_sad.wav  Young      sad      Young and sad\n",
              "1       YAF_hate_happy.wav  Young    happy    Young and happy\n",
              "2       YAF_have_angry.wav  Young    angry    Young and angry\n",
              "3     YAF_hate_disgust.wav  Young  disgust  Young and disgust\n",
              "4        YAF_hate_fear.wav  Young     fear     Young and fear\n",
              "...                    ...    ...      ...                ...\n",
              "2795       OAF_note_ps.wav  Young       ps       Young and ps\n",
              "2796    OAF_numb_angry.wav  Young    angry    Young and angry\n",
              "2797    OAF_note_happy.wav  Young    happy    Young and happy\n",
              "2798        OAF_pad_ps.wav  Young       ps       Young and ps\n",
              "2799   OAF_pad_neutral.wav  Young  neutral  Young and neutral\n",
              "\n",
              "[2800 rows x 4 columns]"
            ]
          },
          "metadata": {},
          "execution_count": 5
        }
      ]
    },
    {
      "cell_type": "markdown",
      "metadata": {
        "id": "5ovOmlkm17HT"
      },
      "source": [
        "**5. Visualisasi Audio**"
      ]
    },
    {
      "cell_type": "code",
      "metadata": {
        "id": "1V1n2EM6yhv5",
        "colab": {
          "base_uri": "https://localhost:8080/",
          "height": 282
        },
        "outputId": "f73fe9dc-3550-4dc1-fc93-ab61f7e2c92b"
      },
      "source": [
        "audio_file_path = df.iloc[0][\"Path\"]\n",
        "librosa_audio_data, librosa_sample_rate = librosa.load(audio_file_path)\n",
        "\n",
        "plt.figure(figsize =(12, 4))\n",
        "plt. plot(librosa_audio_data)"
      ],
      "execution_count": 7,
      "outputs": [
        {
          "output_type": "execute_result",
          "data": {
            "text/plain": [
              "[<matplotlib.lines.Line2D at 0x7f94ddc4da10>]"
            ]
          },
          "metadata": {},
          "execution_count": 7
        },
        {
          "output_type": "display_data",
          "data": {
            "image/png": "[encoded data removed]",
            "text/plain": [
              "<Figure size 864x288 with 1 Axes>"
            ]
          },
          "metadata": {
            "needs_background": "light"
          }
        }
      ]
    },
    {
      "cell_type": "markdown",
      "metadata": {
        "id": "7zFh3KvTAAOn"
      },
      "source": [
        "**6.  Ekstraksi fitur Menggunakan MFCC**"
      ]
    },
    {
      "cell_type": "code",
      "metadata": {
        "id": "zvt2Ze0yAHte"
      },
      "source": [
        "def features_extractor(file):\n",
        "  audio, sample_rate = librosa.load(file, res_type='kaiser_fast')\n",
        "  mfccs_features =  librosa.feature.mfcc(y=audio, sr=sample_rate, n_mfcc=40)\n",
        "  mfccs_scaled_features = np.mean(mfccs_features.T, axis=0)\n",
        "  return mfccs_scaled_features"
      ],
      "execution_count": 11,
      "outputs": []
    },
    {
      "cell_type": "markdown",
      "metadata": {
        "id": "qq1IcD0gqwIc"
      },
      "source": [
        "**7. Menampilkan Hasil Ekstraksi Fitur**"
      ]
    },
    {
      "cell_type": "code",
      "metadata": {
        "colab": {
          "base_uri": "https://localhost:8080/",
          "height": 419
        },
        "id": "72zaJL9OqzPb",
        "outputId": "72fd94cf-1940-41b5-e9e2-6857895c0d11"
      },
      "source": [
        "df[\"Features\"] = df[\"Path\"].apply(lambda x: features_extractor(x))\n",
        "df"
      ],
      "execution_count": 12,
      "outputs": [
        {
          "output_type": "execute_result",
          "data": {
            "text/html": [
              "<div>\n",
              "<style scoped>\n",
              "    .dataframe tbody tr th:only-of-type {\n",
              "        vertical-align: middle;\n",
              "    }\n",
              "\n",
              "    .dataframe tbody tr th {\n",
              "        vertical-align: top;\n",
              "    }\n",
              "\n",
              "    .dataframe thead th {\n",
              "        text-align: right;\n",
              "    }\n",
              "</style>\n",
              "<table border=\"1\" class=\"dataframe\">\n",
              "  <thead>\n",
              "    <tr style=\"text-align: right;\">\n",
              "      <th></th>\n",
              "      <th>Path</th>\n",
              "      <th>Age</th>\n",
              "      <th>Emotion</th>\n",
              "      <th>Class</th>\n",
              "      <th>Features</th>\n",
              "    </tr>\n",
              "  </thead>\n",
              "  <tbody>\n",
              "    <tr>\n",
              "      <th>0</th>\n",
              "      <td>YAF_hate_sad.wav</td>\n",
              "      <td>Young</td>\n",
              "      <td>sad</td>\n",
              "      <td>Young and sad</td>\n",
              "      <td>[-391.1976, 75.03542, 26.406994, 54.580017, -1...</td>\n",
              "    </tr>\n",
              "    <tr>\n",
              "      <th>1</th>\n",
              "      <td>YAF_hate_happy.wav</td>\n",
              "      <td>Young</td>\n",
              "      <td>happy</td>\n",
              "      <td>Young and happy</td>\n",
              "      <td>[-334.76834, 27.482906, -18.22981, 40.16122, -...</td>\n",
              "    </tr>\n",
              "    <tr>\n",
              "      <th>2</th>\n",
              "      <td>YAF_have_angry.wav</td>\n",
              "      <td>Young</td>\n",
              "      <td>angry</td>\n",
              "      <td>Young and angry</td>\n",
              "      <td>[-363.4726, 38.388786, -22.96723, 14.2116375, ...</td>\n",
              "    </tr>\n",
              "    <tr>\n",
              "      <th>3</th>\n",
              "      <td>YAF_hate_disgust.wav</td>\n",
              "      <td>Young</td>\n",
              "      <td>disgust</td>\n",
              "      <td>Young and disgust</td>\n",
              "      <td>[-399.9477, 58.068954, -4.536504, 38.875675, -...</td>\n",
              "    </tr>\n",
              "    <tr>\n",
              "      <th>4</th>\n",
              "      <td>YAF_hate_fear.wav</td>\n",
              "      <td>Young</td>\n",
              "      <td>fear</td>\n",
              "      <td>Young and fear</td>\n",
              "      <td>[-300.7868, 37.027794, -19.649448, 40.014153, ...</td>\n",
              "    </tr>\n",
              "    <tr>\n",
              "      <th>...</th>\n",
              "      <td>...</td>\n",
              "      <td>...</td>\n",
              "      <td>...</td>\n",
              "      <td>...</td>\n",
              "      <td>...</td>\n",
              "    </tr>\n",
              "    <tr>\n",
              "      <th>2795</th>\n",
              "      <td>OAF_note_ps.wav</td>\n",
              "      <td>Young</td>\n",
              "      <td>ps</td>\n",
              "      <td>Young and ps</td>\n",
              "      <td>[-400.21423, 94.2405, 9.166524, 4.3233533, -10...</td>\n",
              "    </tr>\n",
              "    <tr>\n",
              "      <th>2796</th>\n",
              "      <td>OAF_numb_angry.wav</td>\n",
              "      <td>Young</td>\n",
              "      <td>angry</td>\n",
              "      <td>Young and angry</td>\n",
              "      <td>[-405.33694, 56.203655, -10.647553, -8.656308,...</td>\n",
              "    </tr>\n",
              "    <tr>\n",
              "      <th>2797</th>\n",
              "      <td>OAF_note_happy.wav</td>\n",
              "      <td>Young</td>\n",
              "      <td>happy</td>\n",
              "      <td>Young and happy</td>\n",
              "      <td>[-458.64355, 102.08481, 17.465755, -0.74126035...</td>\n",
              "    </tr>\n",
              "    <tr>\n",
              "      <th>2798</th>\n",
              "      <td>OAF_pad_ps.wav</td>\n",
              "      <td>Young</td>\n",
              "      <td>ps</td>\n",
              "      <td>Young and ps</td>\n",
              "      <td>[-364.96844, 72.935326, 1.404976, -1.4725207, ...</td>\n",
              "    </tr>\n",
              "    <tr>\n",
              "      <th>2799</th>\n",
              "      <td>OAF_pad_neutral.wav</td>\n",
              "      <td>Young</td>\n",
              "      <td>neutral</td>\n",
              "      <td>Young and neutral</td>\n",
              "      <td>[-502.11514, 87.08189, 4.675834, 8.59819, 8.18...</td>\n",
              "    </tr>\n",
              "  </tbody>\n",
              "</table>\n",
              "<p>2800 rows × 5 columns</p>\n",
              "</div>"
            ],
            "text/plain": [
              "                      Path  ...                                           Features\n",
              "0         YAF_hate_sad.wav  ...  [-391.1976, 75.03542, 26.406994, 54.580017, -1...\n",
              "1       YAF_hate_happy.wav  ...  [-334.76834, 27.482906, -18.22981, 40.16122, -...\n",
              "2       YAF_have_angry.wav  ...  [-363.4726, 38.388786, -22.96723, 14.2116375, ...\n",
              "3     YAF_hate_disgust.wav  ...  [-399.9477, 58.068954, -4.536504, 38.875675, -...\n",
              "4        YAF_hate_fear.wav  ...  [-300.7868, 37.027794, -19.649448, 40.014153, ...\n",
              "...                    ...  ...                                                ...\n",
              "2795       OAF_note_ps.wav  ...  [-400.21423, 94.2405, 9.166524, 4.3233533, -10...\n",
              "2796    OAF_numb_angry.wav  ...  [-405.33694, 56.203655, -10.647553, -8.656308,...\n",
              "2797    OAF_note_happy.wav  ...  [-458.64355, 102.08481, 17.465755, -0.74126035...\n",
              "2798        OAF_pad_ps.wav  ...  [-364.96844, 72.935326, 1.404976, -1.4725207, ...\n",
              "2799   OAF_pad_neutral.wav  ...  [-502.11514, 87.08189, 4.675834, 8.59819, 8.18...\n",
              "\n",
              "[2800 rows x 5 columns]"
            ]
          },
          "metadata": {},
          "execution_count": 12
        }
      ]
    },
    {
      "cell_type": "markdown",
      "metadata": {
        "id": "6LILhimdry6f"
      },
      "source": [
        "**8. Label Encoding**\n",
        "\n",
        "Label encoding digunakan untuk mengubah label yang berbentuk kategorikal menjadi numerik. Dimana angka 1 untuk yang berumur muda dan angka 0 untuk yang berumur tua."
      ]
    },
    {
      "cell_type": "code",
      "metadata": {
        "colab": {
          "base_uri": "https://localhost:8080/"
        },
        "id": "TKSWRa-7r3rf",
        "outputId": "834b2dc3-c2f8-4525-ff01-e6f2c65d2463"
      },
      "source": [
        "X = np.array(df[\"Features\"].to_list())\n",
        "y = df[\"Class\"].values\n",
        "encoder = LabelEncoder()\n",
        "y = to_categorical(encoder.fit_transform(y))\n",
        "y"
      ],
      "execution_count": 14,
      "outputs": [
        {
          "output_type": "execute_result",
          "data": {
            "text/plain": [
              "array([[0., 0., 0., ..., 0., 0., 1.],\n",
              "       [0., 0., 0., ..., 0., 0., 0.],\n",
              "       [1., 0., 0., ..., 0., 0., 0.],\n",
              "       ...,\n",
              "       [0., 0., 0., ..., 0., 0., 0.],\n",
              "       [0., 0., 0., ..., 0., 1., 0.],\n",
              "       [0., 0., 0., ..., 1., 0., 0.]], dtype=float32)"
            ]
          },
          "metadata": {},
          "execution_count": 14
        }
      ]
    },
    {
      "cell_type": "markdown",
      "metadata": {
        "id": "ZX3wVpEKtgj0"
      },
      "source": [
        "**9. Normalisasi Array**\n",
        "\n",
        "Membagi Dataset menjadi Data Testing dan Training"
      ]
    },
    {
      "cell_type": "code",
      "metadata": {
        "id": "NwLGTP4OtnKD"
      },
      "source": [
        "X_train, X_test, y_train, y_test = train_test_split(X, y, test_size=0.25, random_state=42)"
      ],
      "execution_count": 15,
      "outputs": []
    },
    {
      "cell_type": "markdown",
      "metadata": {
        "id": "6jyrAJOKt3do"
      },
      "source": [
        "**10. Membuat model dan summary model**"
      ]
    },
    {
      "cell_type": "code",
      "metadata": {
        "id": "30scuJbet7uo"
      },
      "source": [
        "# Creating a sequential model\n",
        "model = Sequential()\n",
        "\n",
        "# Adding a dense layer of 100 neurons\n",
        "model.add(Dense(100))\n",
        "\n",
        "# Applying rectified linear unit activation function\n",
        "model.add(Activation('relu'))\n",
        "\n",
        "# Applying dropout with probability of 0.2\n",
        "model.add(Dropout(0.2))\n",
        "model.add(Flatten())\n",
        "\n",
        "# Adding a dense layer of 7 neurons\n",
        "model.add(Dense(7))\n",
        "\n",
        "# Applying 'softmax' activation\n",
        "model.add(Activation('softmax'))"
      ],
      "execution_count": 16,
      "outputs": []
    },
    {
      "cell_type": "markdown",
      "metadata": {
        "id": "BGmkwzk8up0k"
      },
      "source": [
        "**11. Compile model**\n",
        "\n",
        "Kompilasi model dengan '*categorical_crossentropy*' sebagai loss dan 'rmsprop' sebagai pengoptimal."
      ]
    },
    {
      "cell_type": "code",
      "metadata": {
        "id": "bvvITm-eu0tj"
      },
      "source": [
        "model.compile(loss='categorical_crossentropy', metrics=['accuracy'], optimizer='rmsprop')"
      ],
      "execution_count": 17,
      "outputs": []
    },
    {
      "cell_type": "markdown",
      "metadata": {
        "id": "igXkWOCKvC4c"
      },
      "source": [
        "**12. Train model**\n",
        "\n",
        "Menggunakan 100 epoch dalam melatih model."
      ]
    },
    {
      "cell_type": "code",
      "metadata": {
        "colab": {
          "base_uri": "https://localhost:8080/"
        },
        "id": "4bnIkx9qvNgC",
        "outputId": "c6353c49-9adc-4e05-c44e-a214b98670aa"
      },
      "source": [
        "num_epochs = 100\n",
        "num_batch_size = 64\n",
        "# Fitting the model\n",
        "history = model.fit(X_train, y_train, batch_size=num_batch_size, epochs=num_epochs, validation_data=(X_test, y_test))"
      ],
      "execution_count": 19,
      "outputs": [
        {
          "output_type": "stream",
          "name": "stdout",
          "text": [
            "Epoch 1/100\n",
            "33/33 [==============================] - 1s 8ms/step - loss: 30.4997 - accuracy: 0.1952 - val_loss: 3.3275 - val_accuracy: 0.5486\n",
            "Epoch 2/100\n",
            "33/33 [==============================] - 0s 3ms/step - loss: 16.1740 - accuracy: 0.3224 - val_loss: 1.7026 - val_accuracy: 0.7271\n",
            "Epoch 3/100\n",
            "33/33 [==============================] - 0s 3ms/step - loss: 9.0989 - accuracy: 0.4886 - val_loss: 0.5951 - val_accuracy: 0.8557\n",
            "Epoch 4/100\n",
            "33/33 [==============================] - 0s 3ms/step - loss: 4.8739 - accuracy: 0.6181 - val_loss: 0.2760 - val_accuracy: 0.9171\n",
            "Epoch 5/100\n",
            "33/33 [==============================] - 0s 3ms/step - loss: 2.7512 - accuracy: 0.7248 - val_loss: 0.2199 - val_accuracy: 0.9443\n",
            "Epoch 6/100\n",
            "33/33 [==============================] - 0s 2ms/step - loss: 1.4997 - accuracy: 0.7943 - val_loss: 0.1560 - val_accuracy: 0.9586\n",
            "Epoch 7/100\n",
            "33/33 [==============================] - 0s 4ms/step - loss: 0.8241 - accuracy: 0.8581 - val_loss: 0.1085 - val_accuracy: 0.9571\n",
            "Epoch 8/100\n",
            "33/33 [==============================] - 0s 3ms/step - loss: 0.4032 - accuracy: 0.9100 - val_loss: 0.0925 - val_accuracy: 0.9686\n",
            "Epoch 9/100\n",
            "33/33 [==============================] - 0s 3ms/step - loss: 0.2471 - accuracy: 0.9305 - val_loss: 0.0997 - val_accuracy: 0.9643\n",
            "Epoch 10/100\n",
            "33/33 [==============================] - 0s 3ms/step - loss: 0.1926 - accuracy: 0.9424 - val_loss: 0.0542 - val_accuracy: 0.9843\n",
            "Epoch 11/100\n",
            "33/33 [==============================] - 0s 3ms/step - loss: 0.1871 - accuracy: 0.9443 - val_loss: 0.0577 - val_accuracy: 0.9814\n",
            "Epoch 12/100\n",
            "33/33 [==============================] - 0s 3ms/step - loss: 0.1189 - accuracy: 0.9595 - val_loss: 0.0606 - val_accuracy: 0.9729\n",
            "Epoch 13/100\n",
            "33/33 [==============================] - 0s 3ms/step - loss: 0.0956 - accuracy: 0.9657 - val_loss: 0.0572 - val_accuracy: 0.9800\n",
            "Epoch 14/100\n",
            "33/33 [==============================] - 0s 3ms/step - loss: 0.0973 - accuracy: 0.9695 - val_loss: 0.0402 - val_accuracy: 0.9843\n",
            "Epoch 15/100\n",
            "33/33 [==============================] - 0s 3ms/step - loss: 0.0752 - accuracy: 0.9743 - val_loss: 0.0618 - val_accuracy: 0.9686\n",
            "Epoch 16/100\n",
            "33/33 [==============================] - 0s 3ms/step - loss: 0.0675 - accuracy: 0.9781 - val_loss: 0.0370 - val_accuracy: 0.9871\n",
            "Epoch 17/100\n",
            "33/33 [==============================] - 0s 3ms/step - loss: 0.0668 - accuracy: 0.9757 - val_loss: 0.0397 - val_accuracy: 0.9871\n",
            "Epoch 18/100\n",
            "33/33 [==============================] - 0s 3ms/step - loss: 0.0591 - accuracy: 0.9776 - val_loss: 0.0451 - val_accuracy: 0.9886\n",
            "Epoch 19/100\n",
            "33/33 [==============================] - 0s 3ms/step - loss: 0.0518 - accuracy: 0.9824 - val_loss: 0.0432 - val_accuracy: 0.9871\n",
            "Epoch 20/100\n",
            "33/33 [==============================] - 0s 3ms/step - loss: 0.0443 - accuracy: 0.9843 - val_loss: 0.0594 - val_accuracy: 0.9786\n",
            "Epoch 21/100\n",
            "33/33 [==============================] - 0s 2ms/step - loss: 0.0481 - accuracy: 0.9829 - val_loss: 0.0276 - val_accuracy: 0.9914\n",
            "Epoch 22/100\n",
            "33/33 [==============================] - 0s 3ms/step - loss: 0.0371 - accuracy: 0.9852 - val_loss: 0.0253 - val_accuracy: 0.9929\n",
            "Epoch 23/100\n",
            "33/33 [==============================] - 0s 3ms/step - loss: 0.0329 - accuracy: 0.9886 - val_loss: 0.0256 - val_accuracy: 0.9857\n",
            "Epoch 24/100\n",
            "33/33 [==============================] - 0s 3ms/step - loss: 0.0365 - accuracy: 0.9833 - val_loss: 0.0246 - val_accuracy: 0.9914\n",
            "Epoch 25/100\n",
            "33/33 [==============================] - 0s 2ms/step - loss: 0.0279 - accuracy: 0.9900 - val_loss: 0.0246 - val_accuracy: 0.9886\n",
            "Epoch 26/100\n",
            "33/33 [==============================] - 0s 3ms/step - loss: 0.0254 - accuracy: 0.9905 - val_loss: 0.0197 - val_accuracy: 0.9957\n",
            "Epoch 27/100\n",
            "33/33 [==============================] - 0s 3ms/step - loss: 0.0345 - accuracy: 0.9881 - val_loss: 0.0254 - val_accuracy: 0.9929\n",
            "Epoch 28/100\n",
            "33/33 [==============================] - 0s 3ms/step - loss: 0.0357 - accuracy: 0.9905 - val_loss: 0.0293 - val_accuracy: 0.9943\n",
            "Epoch 29/100\n",
            "33/33 [==============================] - 0s 3ms/step - loss: 0.0234 - accuracy: 0.9914 - val_loss: 0.0236 - val_accuracy: 0.9957\n",
            "Epoch 30/100\n",
            "33/33 [==============================] - 0s 3ms/step - loss: 0.0318 - accuracy: 0.9886 - val_loss: 0.0188 - val_accuracy: 0.9943\n",
            "Epoch 31/100\n",
            "33/33 [==============================] - 0s 3ms/step - loss: 0.0331 - accuracy: 0.9886 - val_loss: 0.0297 - val_accuracy: 0.9900\n",
            "Epoch 32/100\n",
            "33/33 [==============================] - 0s 2ms/step - loss: 0.0195 - accuracy: 0.9924 - val_loss: 0.0202 - val_accuracy: 0.9957\n",
            "Epoch 33/100\n",
            "33/33 [==============================] - 0s 3ms/step - loss: 0.0211 - accuracy: 0.9910 - val_loss: 0.0232 - val_accuracy: 0.9957\n",
            "Epoch 34/100\n",
            "33/33 [==============================] - 0s 2ms/step - loss: 0.0235 - accuracy: 0.9938 - val_loss: 0.0238 - val_accuracy: 0.9929\n",
            "Epoch 35/100\n",
            "33/33 [==============================] - 0s 2ms/step - loss: 0.0275 - accuracy: 0.9905 - val_loss: 0.0214 - val_accuracy: 0.9957\n",
            "Epoch 36/100\n",
            "33/33 [==============================] - 0s 2ms/step - loss: 0.0235 - accuracy: 0.9900 - val_loss: 0.0220 - val_accuracy: 0.9943\n",
            "Epoch 37/100\n",
            "33/33 [==============================] - 0s 3ms/step - loss: 0.0149 - accuracy: 0.9948 - val_loss: 0.0163 - val_accuracy: 0.9957\n",
            "Epoch 38/100\n",
            "33/33 [==============================] - 0s 3ms/step - loss: 0.0131 - accuracy: 0.9957 - val_loss: 0.0159 - val_accuracy: 0.9929\n",
            "Epoch 39/100\n",
            "33/33 [==============================] - 0s 2ms/step - loss: 0.0224 - accuracy: 0.9895 - val_loss: 0.0204 - val_accuracy: 0.9957\n",
            "Epoch 40/100\n",
            "33/33 [==============================] - 0s 3ms/step - loss: 0.0170 - accuracy: 0.9929 - val_loss: 0.0149 - val_accuracy: 0.9957\n",
            "Epoch 41/100\n",
            "33/33 [==============================] - 0s 3ms/step - loss: 0.0187 - accuracy: 0.9933 - val_loss: 0.0148 - val_accuracy: 0.9957\n",
            "Epoch 42/100\n",
            "33/33 [==============================] - 0s 3ms/step - loss: 0.0169 - accuracy: 0.9933 - val_loss: 0.0157 - val_accuracy: 0.9971\n",
            "Epoch 43/100\n",
            "33/33 [==============================] - 0s 3ms/step - loss: 0.0132 - accuracy: 0.9967 - val_loss: 0.0209 - val_accuracy: 0.9943\n",
            "Epoch 44/100\n",
            "33/33 [==============================] - 0s 3ms/step - loss: 0.0111 - accuracy: 0.9962 - val_loss: 0.0365 - val_accuracy: 0.9843\n",
            "Epoch 45/100\n",
            "33/33 [==============================] - 0s 3ms/step - loss: 0.0102 - accuracy: 0.9967 - val_loss: 0.0144 - val_accuracy: 0.9957\n",
            "Epoch 46/100\n",
            "33/33 [==============================] - 0s 3ms/step - loss: 0.0140 - accuracy: 0.9952 - val_loss: 0.0141 - val_accuracy: 0.9971\n",
            "Epoch 47/100\n",
            "33/33 [==============================] - 0s 3ms/step - loss: 0.0226 - accuracy: 0.9929 - val_loss: 0.0184 - val_accuracy: 0.9943\n",
            "Epoch 48/100\n",
            "33/33 [==============================] - 0s 3ms/step - loss: 0.0143 - accuracy: 0.9952 - val_loss: 0.0199 - val_accuracy: 0.9929\n",
            "Epoch 49/100\n",
            "33/33 [==============================] - 0s 3ms/step - loss: 0.0123 - accuracy: 0.9962 - val_loss: 0.0234 - val_accuracy: 0.9943\n",
            "Epoch 50/100\n",
            "33/33 [==============================] - 0s 3ms/step - loss: 0.0178 - accuracy: 0.9929 - val_loss: 0.0167 - val_accuracy: 0.9957\n",
            "Epoch 51/100\n",
            "33/33 [==============================] - 0s 3ms/step - loss: 0.0102 - accuracy: 0.9976 - val_loss: 0.0181 - val_accuracy: 0.9971\n",
            "Epoch 52/100\n",
            "33/33 [==============================] - 0s 2ms/step - loss: 0.0095 - accuracy: 0.9967 - val_loss: 0.0293 - val_accuracy: 0.9929\n",
            "Epoch 53/100\n",
            "33/33 [==============================] - 0s 2ms/step - loss: 0.0175 - accuracy: 0.9952 - val_loss: 0.0193 - val_accuracy: 0.9929\n",
            "Epoch 54/100\n",
            "33/33 [==============================] - 0s 2ms/step - loss: 0.0082 - accuracy: 0.9971 - val_loss: 0.0175 - val_accuracy: 0.9943\n",
            "Epoch 55/100\n",
            "33/33 [==============================] - 0s 2ms/step - loss: 0.0057 - accuracy: 0.9986 - val_loss: 0.0150 - val_accuracy: 0.9957\n",
            "Epoch 56/100\n",
            "33/33 [==============================] - 0s 2ms/step - loss: 0.0192 - accuracy: 0.9924 - val_loss: 0.0175 - val_accuracy: 0.9943\n",
            "Epoch 57/100\n",
            "33/33 [==============================] - 0s 3ms/step - loss: 0.0100 - accuracy: 0.9971 - val_loss: 0.0115 - val_accuracy: 0.9943\n",
            "Epoch 58/100\n",
            "33/33 [==============================] - 0s 3ms/step - loss: 0.0118 - accuracy: 0.9952 - val_loss: 0.0114 - val_accuracy: 0.9943\n",
            "Epoch 59/100\n",
            "33/33 [==============================] - 0s 3ms/step - loss: 0.0081 - accuracy: 0.9971 - val_loss: 0.0160 - val_accuracy: 0.9943\n",
            "Epoch 60/100\n",
            "33/33 [==============================] - 0s 2ms/step - loss: 0.0059 - accuracy: 0.9981 - val_loss: 0.0411 - val_accuracy: 0.9857\n",
            "Epoch 61/100\n",
            "33/33 [==============================] - 0s 3ms/step - loss: 0.0052 - accuracy: 0.9986 - val_loss: 0.0186 - val_accuracy: 0.9914\n",
            "Epoch 62/100\n",
            "33/33 [==============================] - 0s 2ms/step - loss: 0.0169 - accuracy: 0.9957 - val_loss: 0.0116 - val_accuracy: 0.9971\n",
            "Epoch 63/100\n",
            "33/33 [==============================] - 0s 3ms/step - loss: 0.0075 - accuracy: 0.9967 - val_loss: 0.0182 - val_accuracy: 0.9957\n",
            "Epoch 64/100\n",
            "33/33 [==============================] - 0s 2ms/step - loss: 0.0064 - accuracy: 0.9986 - val_loss: 0.0205 - val_accuracy: 0.9943\n",
            "Epoch 65/100\n",
            "33/33 [==============================] - 0s 3ms/step - loss: 0.0054 - accuracy: 0.9981 - val_loss: 0.0178 - val_accuracy: 0.9957\n",
            "Epoch 66/100\n",
            "33/33 [==============================] - 0s 2ms/step - loss: 0.0069 - accuracy: 0.9976 - val_loss: 0.0193 - val_accuracy: 0.9957\n",
            "Epoch 67/100\n",
            "33/33 [==============================] - 0s 3ms/step - loss: 0.0086 - accuracy: 0.9967 - val_loss: 0.0250 - val_accuracy: 0.9957\n",
            "Epoch 68/100\n",
            "33/33 [==============================] - 0s 3ms/step - loss: 0.0054 - accuracy: 0.9976 - val_loss: 0.0135 - val_accuracy: 0.9957\n",
            "Epoch 69/100\n",
            "33/33 [==============================] - 0s 3ms/step - loss: 0.0082 - accuracy: 0.9986 - val_loss: 0.0222 - val_accuracy: 0.9929\n",
            "Epoch 70/100\n",
            "33/33 [==============================] - 0s 3ms/step - loss: 0.0055 - accuracy: 0.9976 - val_loss: 0.0232 - val_accuracy: 0.9957\n",
            "Epoch 71/100\n",
            "33/33 [==============================] - 0s 3ms/step - loss: 0.0038 - accuracy: 0.9986 - val_loss: 0.0163 - val_accuracy: 0.9971\n",
            "Epoch 72/100\n",
            "33/33 [==============================] - 0s 3ms/step - loss: 0.0064 - accuracy: 0.9981 - val_loss: 0.0177 - val_accuracy: 0.9943\n",
            "Epoch 73/100\n",
            "33/33 [==============================] - 0s 2ms/step - loss: 0.0050 - accuracy: 0.9981 - val_loss: 0.0188 - val_accuracy: 0.9957\n",
            "Epoch 74/100\n",
            "33/33 [==============================] - 0s 3ms/step - loss: 0.0038 - accuracy: 0.9990 - val_loss: 0.0164 - val_accuracy: 0.9943\n",
            "Epoch 75/100\n",
            "33/33 [==============================] - 0s 3ms/step - loss: 0.0034 - accuracy: 0.9990 - val_loss: 0.0251 - val_accuracy: 0.9914\n",
            "Epoch 76/100\n",
            "33/33 [==============================] - 0s 3ms/step - loss: 0.0096 - accuracy: 0.9981 - val_loss: 0.0153 - val_accuracy: 0.9957\n",
            "Epoch 77/100\n",
            "33/33 [==============================] - 0s 3ms/step - loss: 0.0133 - accuracy: 0.9957 - val_loss: 0.0169 - val_accuracy: 0.9943\n",
            "Epoch 78/100\n",
            "33/33 [==============================] - 0s 3ms/step - loss: 0.0057 - accuracy: 0.9976 - val_loss: 0.0161 - val_accuracy: 0.9957\n",
            "Epoch 79/100\n",
            "33/33 [==============================] - 0s 3ms/step - loss: 0.0087 - accuracy: 0.9971 - val_loss: 0.0175 - val_accuracy: 0.9929\n",
            "Epoch 80/100\n",
            "33/33 [==============================] - 0s 3ms/step - loss: 0.0032 - accuracy: 0.9990 - val_loss: 0.0134 - val_accuracy: 0.9943\n",
            "Epoch 81/100\n",
            "33/33 [==============================] - 0s 3ms/step - loss: 0.0068 - accuracy: 0.9971 - val_loss: 0.0200 - val_accuracy: 0.9943\n",
            "Epoch 82/100\n",
            "33/33 [==============================] - 0s 3ms/step - loss: 0.0062 - accuracy: 0.9981 - val_loss: 0.0200 - val_accuracy: 0.9929\n",
            "Epoch 83/100\n",
            "33/33 [==============================] - 0s 3ms/step - loss: 0.0044 - accuracy: 0.9986 - val_loss: 0.0217 - val_accuracy: 0.9929\n",
            "Epoch 84/100\n",
            "33/33 [==============================] - 0s 2ms/step - loss: 0.0051 - accuracy: 0.9986 - val_loss: 0.0090 - val_accuracy: 0.9971\n",
            "Epoch 85/100\n",
            "33/33 [==============================] - 0s 3ms/step - loss: 0.0102 - accuracy: 0.9971 - val_loss: 0.0160 - val_accuracy: 0.9971\n",
            "Epoch 86/100\n",
            "33/33 [==============================] - 0s 3ms/step - loss: 0.0017 - accuracy: 0.9995 - val_loss: 0.0183 - val_accuracy: 0.9971\n",
            "Epoch 87/100\n",
            "33/33 [==============================] - 0s 3ms/step - loss: 0.0048 - accuracy: 0.9976 - val_loss: 0.0167 - val_accuracy: 0.9986\n",
            "Epoch 88/100\n",
            "33/33 [==============================] - 0s 2ms/step - loss: 0.0036 - accuracy: 0.9986 - val_loss: 0.0064 - val_accuracy: 0.9971\n",
            "Epoch 89/100\n",
            "33/33 [==============================] - 0s 3ms/step - loss: 0.0091 - accuracy: 0.9976 - val_loss: 0.0111 - val_accuracy: 0.9957\n",
            "Epoch 90/100\n",
            "33/33 [==============================] - 0s 3ms/step - loss: 0.0049 - accuracy: 0.9976 - val_loss: 0.0101 - val_accuracy: 0.9943\n",
            "Epoch 91/100\n",
            "33/33 [==============================] - 0s 3ms/step - loss: 0.0062 - accuracy: 0.9976 - val_loss: 0.0112 - val_accuracy: 0.9957\n",
            "Epoch 92/100\n",
            "33/33 [==============================] - 0s 2ms/step - loss: 0.0025 - accuracy: 0.9995 - val_loss: 0.0104 - val_accuracy: 0.9943\n",
            "Epoch 93/100\n",
            "33/33 [==============================] - 0s 3ms/step - loss: 0.0063 - accuracy: 0.9976 - val_loss: 0.0202 - val_accuracy: 0.9943\n",
            "Epoch 94/100\n",
            "33/33 [==============================] - 0s 2ms/step - loss: 0.0021 - accuracy: 0.9995 - val_loss: 0.0164 - val_accuracy: 0.9957\n",
            "Epoch 95/100\n",
            "33/33 [==============================] - 0s 3ms/step - loss: 0.0091 - accuracy: 0.9981 - val_loss: 0.0122 - val_accuracy: 0.9957\n",
            "Epoch 96/100\n",
            "33/33 [==============================] - 0s 3ms/step - loss: 0.0061 - accuracy: 0.9986 - val_loss: 0.0084 - val_accuracy: 0.9971\n",
            "Epoch 97/100\n",
            "33/33 [==============================] - 0s 2ms/step - loss: 0.0016 - accuracy: 0.9995 - val_loss: 0.0091 - val_accuracy: 0.9971\n",
            "Epoch 98/100\n",
            "33/33 [==============================] - 0s 3ms/step - loss: 0.0040 - accuracy: 0.9981 - val_loss: 0.0071 - val_accuracy: 0.9957\n",
            "Epoch 99/100\n",
            "33/33 [==============================] - 0s 2ms/step - loss: 0.0042 - accuracy: 0.9981 - val_loss: 0.0218 - val_accuracy: 0.9943\n",
            "Epoch 100/100\n",
            "33/33 [==============================] - 0s 3ms/step - loss: 0.0059 - accuracy: 0.9971 - val_loss: 0.0154 - val_accuracy: 0.9971\n"
          ]
        }
      ]
    },
    {
      "cell_type": "markdown",
      "metadata": {
        "id": "8sdqA7hkvgOe"
      },
      "source": [
        "**13. Menghitung akurasi model**"
      ]
    },
    {
      "cell_type": "code",
      "metadata": {
        "colab": {
          "base_uri": "https://localhost:8080/"
        },
        "id": "AUu2q7w5vqDh",
        "outputId": "ba6a2515-fa32-40a5-e990-af8f41a811e5"
      },
      "source": [
        "scores = model.evaluate(X_test, y_test)\n",
        "print(f\"Test Accuracy: {scores[1]*100}\")"
      ],
      "execution_count": 20,
      "outputs": [
        {
          "output_type": "stream",
          "name": "stdout",
          "text": [
            "22/22 [==============================] - 0s 1ms/step - loss: 0.0154 - accuracy: 0.9971\n",
            "Test Accuracy: 99.71428513526917\n"
          ]
        }
      ]
    },
    {
      "cell_type": "markdown",
      "metadata": {
        "id": "VRHkzmTBv7D-"
      },
      "source": [
        "**14. Menampilkan plot**"
      ]
    },
    {
      "cell_type": "code",
      "metadata": {
        "colab": {
          "base_uri": "https://localhost:8080/",
          "height": 461
        },
        "id": "fMCjPzhdv0VF",
        "outputId": "0c1ce080-2084-4106-dfc2-cfd07516dab2"
      },
      "source": [
        "# Visualizing the loss and accuracy\n",
        "plt.figure(figsize=(12,6), dpi=80)\n",
        "\n",
        "plt.subplot(1,2,1)\n",
        "plt.plot(history.history['accuracy'])\n",
        "plt.plot(history.history['val_accuracy'])\n",
        "plt.title('Model accuracy')\n",
        "plt.ylabel('Accuracy')\n",
        "plt.xlabel('Epoch')\n",
        "plt.legend(['Train', 'Test'], loc='upper left')\n",
        "plt.plot()\n",
        "\n",
        "plt.subplot(1,2,2)\n",
        "plt.plot(history.history['loss'])\n",
        "plt.plot(history.history['val_loss'])\n",
        "plt.title('Model loss')\n",
        "plt.ylabel('Loss')\n",
        "plt.xlabel('Epoch')\n",
        "plt.legend(['Train', 'Test'], loc='upper left')\n",
        "plt.plot()"
      ],
      "execution_count": 21,
      "outputs": [
        {
          "output_type": "execute_result",
          "data": {
            "text/plain": [
              "[]"
            ]
          },
          "metadata": {},
          "execution_count": 21
        },
        {
          "output_type": "display_data",
          "data": {
            "image/png": "[encoded data removed]",
            "text/plain": [
              "<Figure size 960x480 with 2 Axes>"
            ]
          },
          "metadata": {
            "needs_background": "light"
          }
        }
      ]
    },
    {
      "cell_type": "markdown",
      "metadata": {
        "id": "53Grsq4Kw2Yo"
      },
      "source": [
        "**15. Confusion matriks**"
      ]
    },
    {
      "cell_type": "code",
      "metadata": {
        "colab": {
          "base_uri": "https://localhost:8080/",
          "height": 232
        },
        "id": "pJWyiGdBw5lH",
        "outputId": "7d0ce75f-76e5-478a-8bbe-5ef450e2ae8a"
      },
      "source": [
        "import seaborn as sns\n",
        "from sklearn.preprocessing import MultiLabelBinarizer\n",
        "from sklearn.preprocessing import LabelBinarizer\n",
        "\n",
        "model_ANN = confusion_matrix(np.argmax(y_test, axis=1), model_predicted)\n",
        "np.set_printoptions(precision=2)\n",
        "print(model_ANN)\n",
        "plt.figure()\n",
        "ax = plt.subplot()\n",
        "sns.heatmap(model_ANN, annot=True, ax=ax)\n",
        "\n",
        "ax.set_xlabel('Predict labels')\n",
        "ax.set_title('Confusion matrix')"
      ],
      "execution_count": 29,
      "outputs": [
        {
          "output_type": "error",
          "ename": "NameError",
          "evalue": "ignored",
          "traceback": [
            "\u001b[0;31m---------------------------------------------------------------------------\u001b[0m",
            "\u001b[0;31mNameError\u001b[0m                                 Traceback (most recent call last)",
            "\u001b[0;32m<ipython-input-29-3b253f4c1737>\u001b[0m in \u001b[0;36m<module>\u001b[0;34m()\u001b[0m\n\u001b[1;32m      3\u001b[0m \u001b[0;32mfrom\u001b[0m \u001b[0msklearn\u001b[0m\u001b[0;34m.\u001b[0m\u001b[0mpreprocessing\u001b[0m \u001b[0;32mimport\u001b[0m \u001b[0mLabelBinarizer\u001b[0m\u001b[0;34m\u001b[0m\u001b[0;34m\u001b[0m\u001b[0m\n\u001b[1;32m      4\u001b[0m \u001b[0;34m\u001b[0m\u001b[0m\n\u001b[0;32m----> 5\u001b[0;31m \u001b[0mmodel_ANN\u001b[0m \u001b[0;34m=\u001b[0m \u001b[0mconfusion_matrix\u001b[0m\u001b[0;34m(\u001b[0m\u001b[0mnp\u001b[0m\u001b[0;34m.\u001b[0m\u001b[0margmax\u001b[0m\u001b[0;34m(\u001b[0m\u001b[0my_test\u001b[0m\u001b[0;34m,\u001b[0m \u001b[0maxis\u001b[0m\u001b[0;34m=\u001b[0m\u001b[0;36m1\u001b[0m\u001b[0;34m)\u001b[0m\u001b[0;34m,\u001b[0m \u001b[0mmodel_predicted\u001b[0m\u001b[0;34m)\u001b[0m\u001b[0;34m\u001b[0m\u001b[0;34m\u001b[0m\u001b[0m\n\u001b[0m\u001b[1;32m      6\u001b[0m \u001b[0mnp\u001b[0m\u001b[0;34m.\u001b[0m\u001b[0mset_printoptions\u001b[0m\u001b[0;34m(\u001b[0m\u001b[0mprecision\u001b[0m\u001b[0;34m=\u001b[0m\u001b[0;36m2\u001b[0m\u001b[0;34m)\u001b[0m\u001b[0;34m\u001b[0m\u001b[0;34m\u001b[0m\u001b[0m\n\u001b[1;32m      7\u001b[0m \u001b[0mprint\u001b[0m\u001b[0;34m(\u001b[0m\u001b[0mmodel_ANN\u001b[0m\u001b[0;34m)\u001b[0m\u001b[0;34m\u001b[0m\u001b[0;34m\u001b[0m\u001b[0m\n",
            "\u001b[0;31mNameError\u001b[0m: name 'model_predicted' is not defined"
          ]
        }
      ]
    },
    {
      "cell_type": "markdown",
      "metadata": {
        "id": "f2b8azM2yDws"
      },
      "source": [
        "**16. ROC (Receiver Operating Characteristics)**"
      ]
    },
    {
      "cell_type": "code",
      "metadata": {
        "id": "k0Gnc4seyMXG"
      },
      "source": [
        "fpr, tpr, thresholds = roc_curve(y_test.ravel(), model_pred.ravel())\n",
        "auc_ = auc(fpr,tpr)\n",
        "\n",
        "plt.figure(1)\n",
        "plt.plot([0,1],[0,1],'k--')\n",
        "plt.plot(fpr, tpr, label='ROC (area - {:.3f})'.format(auc_))\n",
        "plt.xlabel('False positive rate')\n",
        "plt.ylabel('True positive rate')\n",
        "plt.title('ROC curve')\n",
        "plt.legen(loc='best')\n",
        "plt.show()"
      ],
      "execution_count": null,
      "outputs": []
    },
    {
      "cell_type": "markdown",
      "metadata": {
        "id": "D98-18S0y_Fp"
      },
      "source": [
        "**17. Classification repot**"
      ]
    },
    {
      "cell_type": "code",
      "metadata": {
        "id": "r2Gz0ZVMzB65"
      },
      "source": [
        "from sklearn.metrics import classification_report\n",
        "print(classification_report(y_test, y_pred))"
      ],
      "execution_count": null,
      "outputs": []
    }
  ]
}