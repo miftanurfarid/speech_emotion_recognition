{
 "cells": [
  {
   "cell_type": "markdown",
   "metadata": {
    "id": "Kdbe7l4mvka_"
   },
   "source": [
    "Convolutional Neural Network - Speaker Dependent"
   ]
  },
  {
   "cell_type": "code",
   "execution_count": 1,
   "metadata": {
    "executionInfo": {
     "elapsed": 4038,
     "status": "ok",
     "timestamp": 1637483509218,
     "user": {
      "displayName": "Mifta Nur Farid",
      "photoUrl": "https://lh3.googleusercontent.com/a-/AOh14Ggy1z392pDYiz6ZRr4cWS47fjaBR9kb91AFD3CB=s64",
      "userId": "04572607355647889010"
     },
     "user_tz": -480
    },
    "id": "PzUbMKRIvP5O"
   },
   "outputs": [
    {
     "name": "stderr",
     "output_type": "stream",
     "text": [
      "2022-02-01 15:11:51.667461: W tensorflow/stream_executor/platform/default/dso_loader.cc:64] Could not load dynamic library 'libcudart.so.11.0'; dlerror: libcudart.so.11.0: cannot open shared object file: No such file or directory\n",
      "2022-02-01 15:11:51.667772: I tensorflow/stream_executor/cuda/cudart_stub.cc:29] Ignore above cudart dlerror if you do not have a GPU set up on your machine.\n"
     ]
    }
   ],
   "source": [
    "# import library\n",
    "import numpy as np\n",
    "import tensorflow as tf\n",
    "from sklearn.model_selection import train_test_split\n",
    "import matplotlib.pyplot as plt\n",
    "import random as rn"
   ]
  },
  {
   "cell_type": "code",
   "execution_count": 2,
   "metadata": {
    "colab": {
     "base_uri": "https://localhost:8080/"
    },
    "executionInfo": {
     "elapsed": 34,
     "status": "ok",
     "timestamp": 1637483555107,
     "user": {
      "displayName": "Mifta Nur Farid",
      "photoUrl": "https://lh3.googleusercontent.com/a-/AOh14Ggy1z392pDYiz6ZRr4cWS47fjaBR9kb91AFD3CB=s64",
      "userId": "04572607355647889010"
     },
     "user_tz": -480
    },
    "id": "tXcBjI3Cvq9a",
    "outputId": "0f1cb969-4c71-4194-eeaa-9354021b6488"
   },
   "outputs": [
    {
     "name": "stdout",
     "output_type": "stream",
     "text": [
      "/home/fafa/Documents/speech_emotion_recognition\n"
     ]
    }
   ],
   "source": [
    "cd .."
   ]
  },
  {
   "cell_type": "code",
   "execution_count": 3,
   "metadata": {
    "executionInfo": {
     "elapsed": 879,
     "status": "ok",
     "timestamp": 1637483555969,
     "user": {
      "displayName": "Mifta Nur Farid",
      "photoUrl": "https://lh3.googleusercontent.com/a-/AOh14Ggy1z392pDYiz6ZRr4cWS47fjaBR9kb91AFD3CB=s64",
      "userId": "04572607355647889010"
     },
     "user_tz": -480
    },
    "id": "CiBQFyqpvtgw"
   },
   "outputs": [],
   "source": [
    "np.random.seed(123)\n",
    "rn.seed(123)\n",
    "tf.random.set_seed(123)"
   ]
  },
  {
   "cell_type": "code",
   "execution_count": 4,
   "metadata": {
    "executionInfo": {
     "elapsed": 32,
     "status": "ok",
     "timestamp": 1637483555970,
     "user": {
      "displayName": "Mifta Nur Farid",
      "photoUrl": "https://lh3.googleusercontent.com/a-/AOh14Ggy1z392pDYiz6ZRr4cWS47fjaBR9kb91AFD3CB=s64",
      "userId": "04572607355647889010"
     },
     "user_tz": -480
    },
    "id": "wlLpKn8Ivwis"
   },
   "outputs": [],
   "source": [
    "# load feature data\n",
    "data_path = 'data/speech/' # choose song or speech\n",
    "X = np.load(data_path + 'x.npy')\n",
    "y = np.load(data_path + 'y.npy')\n",
    "\n",
    "# reshape x untuk cnn\n",
    "X = X.reshape(X.shape[0], X.shape[1], 1)"
   ]
  },
  {
   "cell_type": "code",
   "execution_count": 5,
   "metadata": {
    "executionInfo": {
     "elapsed": 33,
     "status": "ok",
     "timestamp": 1637483555972,
     "user": {
      "displayName": "Mifta Nur Farid",
      "photoUrl": "https://lh3.googleusercontent.com/a-/AOh14Ggy1z392pDYiz6ZRr4cWS47fjaBR9kb91AFD3CB=s64",
      "userId": "04572607355647889010"
     },
     "user_tz": -480
    },
    "id": "14HuUc70v45w"
   },
   "outputs": [],
   "source": [
    "# split into train and test\n",
    "x_train, x_test, y_train, y_test = train_test_split(X, y, test_size=0.1)\n",
    "\n",
    "earlystop = tf.keras.callbacks.EarlyStopping(monitor='val_loss',\n",
    "                                             patience=10,\n",
    "                                             restore_best_weights=True)\n",
    "\n",
    "checkpointer = tf.keras.callbacks.ModelCheckpoint(\n",
    "    filepath='/tmp/weights.hdf5', verbose=1, save_best_only=True)"
   ]
  },
  {
   "cell_type": "code",
   "execution_count": 6,
   "metadata": {
    "executionInfo": {
     "elapsed": 31,
     "status": "ok",
     "timestamp": 1637483555973,
     "user": {
      "displayName": "Mifta Nur Farid",
      "photoUrl": "https://lh3.googleusercontent.com/a-/AOh14Ggy1z392pDYiz6ZRr4cWS47fjaBR9kb91AFD3CB=s64",
      "userId": "04572607355647889010"
     },
     "user_tz": -480
    },
    "id": "a3WRZJTmwHaN"
   },
   "outputs": [],
   "source": [
    "# function to define model\n",
    "def model_cnn():\n",
    "    model = tf.keras.models.Sequential()\n",
    "    model.add(tf.keras.layers.BatchNormalization(axis=-1,\n",
    "              input_shape=(x_train.shape[1], x_train.shape[2])))\n",
    "    model.add(tf.keras.layers.Conv1D(256, 128, 1, padding='same'))\n",
    "    model.add(tf.keras.layers.Activation('relu'))\n",
    "    model.add(tf.keras.layers.MaxPooling1D(2))\n",
    "    model.add(tf.keras.layers.Flatten())\n",
    "    model.add(tf.keras.layers.Dropout(0.4))\n",
    "    model.add(tf.keras.layers.Dense(8, activation='softmax'))\n",
    "\n",
    "    # compile model: set loss, optimizer, metric\n",
    "    model.compile(loss=tf.keras.losses.SparseCategoricalCrossentropy(),\n",
    "                  optimizer=tf.keras.optimizers.Adam(),\n",
    "                  metrics=['accuracy'])\n",
    "    return model"
   ]
  },
  {
   "cell_type": "code",
   "execution_count": 7,
   "metadata": {
    "colab": {
     "base_uri": "https://localhost:8080/"
    },
    "executionInfo": {
     "elapsed": 31,
     "status": "ok",
     "timestamp": 1637483555974,
     "user": {
      "displayName": "Mifta Nur Farid",
      "photoUrl": "https://lh3.googleusercontent.com/a-/AOh14Ggy1z392pDYiz6ZRr4cWS47fjaBR9kb91AFD3CB=s64",
      "userId": "04572607355647889010"
     },
     "user_tz": -480
    },
    "id": "jcf2zqh0wJ4V",
    "outputId": "ee10f073-f453-4f2a-dd8c-cb5800482252"
   },
   "outputs": [
    {
     "name": "stderr",
     "output_type": "stream",
     "text": [
      "2022-02-01 15:12:06.202993: W tensorflow/stream_executor/platform/default/dso_loader.cc:64] Could not load dynamic library 'libcuda.so.1'; dlerror: libcuda.so.1: cannot open shared object file: No such file or directory\n",
      "2022-02-01 15:12:06.203112: W tensorflow/stream_executor/cuda/cuda_driver.cc:269] failed call to cuInit: UNKNOWN ERROR (303)\n",
      "2022-02-01 15:12:06.203190: I tensorflow/stream_executor/cuda/cuda_diagnostics.cc:156] kernel driver does not appear to be running on this host (fedora): /proc/driver/nvidia/version does not exist\n",
      "2022-02-01 15:12:06.204006: I tensorflow/core/platform/cpu_feature_guard.cc:151] This TensorFlow binary is optimized with oneAPI Deep Neural Network Library (oneDNN) to use the following CPU instructions in performance-critical operations:  AVX2 FMA\n",
      "To enable them in other operations, rebuild TensorFlow with the appropriate compiler flags.\n"
     ]
    },
    {
     "name": "stdout",
     "output_type": "stream",
     "text": [
      "Model: \"sequential\"\n",
      "_________________________________________________________________\n",
      " Layer (type)                Output Shape              Param #   \n",
      "=================================================================\n",
      " batch_normalization (BatchN  (None, 386, 1)           4         \n",
      " ormalization)                                                   \n",
      "                                                                 \n",
      " conv1d (Conv1D)             (None, 386, 256)          33024     \n",
      "                                                                 \n",
      " activation (Activation)     (None, 386, 256)          0         \n",
      "                                                                 \n",
      " max_pooling1d (MaxPooling1D  (None, 193, 256)         0         \n",
      " )                                                               \n",
      "                                                                 \n",
      " flatten (Flatten)           (None, 49408)             0         \n",
      "                                                                 \n",
      " dropout (Dropout)           (None, 49408)             0         \n",
      "                                                                 \n",
      " dense (Dense)               (None, 8)                 395272    \n",
      "                                                                 \n",
      "=================================================================\n",
      "Total params: 428,300\n",
      "Trainable params: 428,298\n",
      "Non-trainable params: 2\n",
      "_________________________________________________________________\n",
      "None\n"
     ]
    }
   ],
   "source": [
    "# create the model\n",
    "model = model_cnn()\n",
    "print(model.summary())"
   ]
  },
  {
   "cell_type": "code",
   "execution_count": 8,
   "metadata": {
    "executionInfo": {
     "elapsed": 531,
     "status": "ok",
     "timestamp": 1637483556490,
     "user": {
      "displayName": "Mifta Nur Farid",
      "photoUrl": "https://lh3.googleusercontent.com/a-/AOh14Ggy1z392pDYiz6ZRr4cWS47fjaBR9kb91AFD3CB=s64",
      "userId": "04572607355647889010"
     },
     "user_tz": -480
    },
    "id": "D2WuAQzVwLn3"
   },
   "outputs": [],
   "source": [
    "# plot model\n",
    "tf.keras.utils.plot_model(model,'cnn_model_sd_speech.pdf',show_shapes=True)"
   ]
  },
  {
   "cell_type": "code",
   "execution_count": 9,
   "metadata": {
    "colab": {
     "base_uri": "https://localhost:8080/"
    },
    "executionInfo": {
     "elapsed": 502847,
     "status": "ok",
     "timestamp": 1637484059298,
     "user": {
      "displayName": "Mifta Nur Farid",
      "photoUrl": "https://lh3.googleusercontent.com/a-/AOh14Ggy1z392pDYiz6ZRr4cWS47fjaBR9kb91AFD3CB=s64",
      "userId": "04572607355647889010"
     },
     "user_tz": -480
    },
    "id": "gNM1BDuVwNqr",
    "outputId": "24630b16-19cb-47c4-d636-b2c0015f2c9d"
   },
   "outputs": [
    {
     "name": "stdout",
     "output_type": "stream",
     "text": [
      "Epoch 1/100\n",
      "73/73 [==============================] - 6s 61ms/step - loss: 2.0458 - accuracy: 0.2058 - val_loss: 2.0458 - val_accuracy: 0.1923\n",
      "Epoch 2/100\n",
      "73/73 [==============================] - 4s 49ms/step - loss: 1.8860 - accuracy: 0.2762 - val_loss: 2.1614 - val_accuracy: 0.2462\n",
      "Epoch 3/100\n",
      "73/73 [==============================] - 3s 48ms/step - loss: 1.8677 - accuracy: 0.2770 - val_loss: 1.8223 - val_accuracy: 0.2462\n",
      "Epoch 4/100\n",
      "73/73 [==============================] - 4s 50ms/step - loss: 1.7801 - accuracy: 0.3285 - val_loss: 1.7987 - val_accuracy: 0.3462\n",
      "Epoch 5/100\n",
      "73/73 [==============================] - 4s 54ms/step - loss: 1.7287 - accuracy: 0.3413 - val_loss: 1.7527 - val_accuracy: 0.3308\n",
      "Epoch 6/100\n",
      "73/73 [==============================] - 4s 51ms/step - loss: 1.7203 - accuracy: 0.3559 - val_loss: 1.7591 - val_accuracy: 0.3154\n",
      "Epoch 7/100\n",
      "73/73 [==============================] - 4s 58ms/step - loss: 1.6749 - accuracy: 0.3559 - val_loss: 1.6248 - val_accuracy: 0.4308\n",
      "Epoch 8/100\n",
      "73/73 [==============================] - 3s 48ms/step - loss: 1.5973 - accuracy: 0.3962 - val_loss: 1.5967 - val_accuracy: 0.3615\n",
      "Epoch 9/100\n",
      "73/73 [==============================] - 4s 50ms/step - loss: 1.5442 - accuracy: 0.4039 - val_loss: 1.6892 - val_accuracy: 0.3692\n",
      "Epoch 10/100\n",
      "73/73 [==============================] - 3s 46ms/step - loss: 1.5931 - accuracy: 0.3971 - val_loss: 1.6140 - val_accuracy: 0.4231\n",
      "Epoch 11/100\n",
      "73/73 [==============================] - 3s 46ms/step - loss: 1.5444 - accuracy: 0.4142 - val_loss: 1.4893 - val_accuracy: 0.4538\n",
      "Epoch 12/100\n",
      "73/73 [==============================] - 3s 47ms/step - loss: 1.5881 - accuracy: 0.3979 - val_loss: 1.7430 - val_accuracy: 0.4000\n",
      "Epoch 13/100\n",
      "73/73 [==============================] - 3s 47ms/step - loss: 1.5309 - accuracy: 0.4254 - val_loss: 1.7726 - val_accuracy: 0.3462\n",
      "Epoch 14/100\n",
      "73/73 [==============================] - 4s 48ms/step - loss: 1.5021 - accuracy: 0.4451 - val_loss: 1.5133 - val_accuracy: 0.4615\n",
      "Epoch 15/100\n",
      "73/73 [==============================] - 4s 49ms/step - loss: 1.4543 - accuracy: 0.4614 - val_loss: 1.5044 - val_accuracy: 0.4154\n",
      "Epoch 16/100\n",
      "73/73 [==============================] - 3s 48ms/step - loss: 1.4662 - accuracy: 0.4588 - val_loss: 1.5612 - val_accuracy: 0.3769\n",
      "Epoch 17/100\n",
      "73/73 [==============================] - 4s 49ms/step - loss: 1.4232 - accuracy: 0.4631 - val_loss: 1.5501 - val_accuracy: 0.4154\n",
      "Epoch 18/100\n",
      "73/73 [==============================] - 4s 49ms/step - loss: 1.4233 - accuracy: 0.4554 - val_loss: 1.4951 - val_accuracy: 0.4385\n",
      "Epoch 19/100\n",
      "73/73 [==============================] - 4s 48ms/step - loss: 1.4697 - accuracy: 0.4425 - val_loss: 1.5419 - val_accuracy: 0.4077\n",
      "Epoch 20/100\n",
      "73/73 [==============================] - 4s 48ms/step - loss: 1.4698 - accuracy: 0.4511 - val_loss: 1.4714 - val_accuracy: 0.4462\n",
      "Epoch 21/100\n",
      "73/73 [==============================] - 4s 49ms/step - loss: 1.3628 - accuracy: 0.5077 - val_loss: 1.7336 - val_accuracy: 0.4615\n",
      "Epoch 22/100\n",
      "73/73 [==============================] - 4s 50ms/step - loss: 1.4054 - accuracy: 0.4957 - val_loss: 1.4248 - val_accuracy: 0.4462\n",
      "Epoch 23/100\n",
      "73/73 [==============================] - 4s 50ms/step - loss: 1.3494 - accuracy: 0.5017 - val_loss: 1.4305 - val_accuracy: 0.4615\n",
      "Epoch 24/100\n",
      "73/73 [==============================] - 4s 50ms/step - loss: 1.3514 - accuracy: 0.5000 - val_loss: 1.3185 - val_accuracy: 0.5000\n",
      "Epoch 25/100\n",
      "73/73 [==============================] - 4s 51ms/step - loss: 1.3134 - accuracy: 0.5232 - val_loss: 1.3554 - val_accuracy: 0.5077\n",
      "Epoch 26/100\n",
      "73/73 [==============================] - 4s 53ms/step - loss: 1.3028 - accuracy: 0.5129 - val_loss: 1.4053 - val_accuracy: 0.4385\n",
      "Epoch 27/100\n",
      "73/73 [==============================] - 4s 51ms/step - loss: 1.3198 - accuracy: 0.4974 - val_loss: 1.4697 - val_accuracy: 0.4692\n",
      "Epoch 28/100\n",
      "73/73 [==============================] - 4s 54ms/step - loss: 1.3019 - accuracy: 0.5334 - val_loss: 1.3293 - val_accuracy: 0.4923\n",
      "Epoch 29/100\n",
      "73/73 [==============================] - 4s 54ms/step - loss: 1.2819 - accuracy: 0.5377 - val_loss: 1.3139 - val_accuracy: 0.4923\n",
      "Epoch 30/100\n",
      "73/73 [==============================] - 4s 55ms/step - loss: 1.2642 - accuracy: 0.5480 - val_loss: 1.3844 - val_accuracy: 0.5308\n",
      "Epoch 31/100\n",
      "73/73 [==============================] - 4s 55ms/step - loss: 1.2659 - accuracy: 0.5557 - val_loss: 1.3596 - val_accuracy: 0.5077\n",
      "Epoch 32/100\n",
      "73/73 [==============================] - 4s 54ms/step - loss: 1.2326 - accuracy: 0.5480 - val_loss: 1.2684 - val_accuracy: 0.5154\n",
      "Epoch 33/100\n",
      "73/73 [==============================] - 4s 54ms/step - loss: 1.2404 - accuracy: 0.5429 - val_loss: 1.3856 - val_accuracy: 0.5308\n",
      "Epoch 34/100\n",
      "73/73 [==============================] - 4s 56ms/step - loss: 1.2296 - accuracy: 0.5557 - val_loss: 1.3775 - val_accuracy: 0.4846\n",
      "Epoch 35/100\n",
      "73/73 [==============================] - 4s 57ms/step - loss: 1.2366 - accuracy: 0.5549 - val_loss: 1.2909 - val_accuracy: 0.4846\n",
      "Epoch 36/100\n",
      "73/73 [==============================] - 4s 57ms/step - loss: 1.1898 - accuracy: 0.5669 - val_loss: 1.3311 - val_accuracy: 0.5000\n",
      "Epoch 37/100\n",
      "73/73 [==============================] - 4s 56ms/step - loss: 1.1946 - accuracy: 0.5549 - val_loss: 1.3103 - val_accuracy: 0.5231\n",
      "Epoch 38/100\n",
      "73/73 [==============================] - 5s 65ms/step - loss: 1.1635 - accuracy: 0.5678 - val_loss: 1.2992 - val_accuracy: 0.5231\n",
      "Epoch 39/100\n",
      "73/73 [==============================] - 4s 58ms/step - loss: 1.1759 - accuracy: 0.5643 - val_loss: 1.2905 - val_accuracy: 0.5077\n",
      "Epoch 40/100\n",
      "73/73 [==============================] - 4s 56ms/step - loss: 1.1089 - accuracy: 0.6166 - val_loss: 1.2214 - val_accuracy: 0.5385\n",
      "Epoch 41/100\n",
      "73/73 [==============================] - 4s 57ms/step - loss: 1.1516 - accuracy: 0.5789 - val_loss: 1.2131 - val_accuracy: 0.4923\n",
      "Epoch 42/100\n",
      "73/73 [==============================] - 4s 56ms/step - loss: 1.1309 - accuracy: 0.5849 - val_loss: 1.2175 - val_accuracy: 0.5462\n",
      "Epoch 43/100\n",
      "73/73 [==============================] - 4s 56ms/step - loss: 1.1280 - accuracy: 0.5901 - val_loss: 1.1456 - val_accuracy: 0.5231\n",
      "Epoch 44/100\n",
      "73/73 [==============================] - 4s 54ms/step - loss: 1.1348 - accuracy: 0.5866 - val_loss: 1.1709 - val_accuracy: 0.5538\n",
      "Epoch 45/100\n",
      "73/73 [==============================] - 4s 56ms/step - loss: 1.1287 - accuracy: 0.5892 - val_loss: 1.2598 - val_accuracy: 0.4769\n",
      "Epoch 46/100\n",
      "73/73 [==============================] - 4s 59ms/step - loss: 1.0834 - accuracy: 0.6132 - val_loss: 1.2059 - val_accuracy: 0.4923\n",
      "Epoch 47/100\n",
      "73/73 [==============================] - 4s 57ms/step - loss: 1.1111 - accuracy: 0.5883 - val_loss: 1.1057 - val_accuracy: 0.5308\n",
      "Epoch 48/100\n",
      "73/73 [==============================] - 4s 58ms/step - loss: 1.0583 - accuracy: 0.6218 - val_loss: 1.1349 - val_accuracy: 0.5385\n",
      "Epoch 49/100\n",
      "73/73 [==============================] - 4s 58ms/step - loss: 1.0681 - accuracy: 0.6184 - val_loss: 1.1925 - val_accuracy: 0.5538\n",
      "Epoch 50/100\n",
      "73/73 [==============================] - 4s 58ms/step - loss: 1.0829 - accuracy: 0.5978 - val_loss: 1.1663 - val_accuracy: 0.5538\n",
      "Epoch 51/100\n",
      "73/73 [==============================] - 4s 57ms/step - loss: 1.0619 - accuracy: 0.6115 - val_loss: 1.1406 - val_accuracy: 0.5385\n",
      "Epoch 52/100\n",
      "73/73 [==============================] - 4s 60ms/step - loss: 1.1069 - accuracy: 0.5952 - val_loss: 1.0516 - val_accuracy: 0.6000\n",
      "Epoch 53/100\n",
      "73/73 [==============================] - 4s 59ms/step - loss: 1.0397 - accuracy: 0.6132 - val_loss: 1.5014 - val_accuracy: 0.5385\n",
      "Epoch 54/100\n",
      "73/73 [==============================] - 5s 62ms/step - loss: 1.0209 - accuracy: 0.6475 - val_loss: 1.2326 - val_accuracy: 0.5077\n",
      "Epoch 55/100\n",
      "73/73 [==============================] - 4s 59ms/step - loss: 1.0054 - accuracy: 0.6467 - val_loss: 1.2132 - val_accuracy: 0.5462\n",
      "Epoch 56/100\n",
      "73/73 [==============================] - 4s 57ms/step - loss: 1.0583 - accuracy: 0.6226 - val_loss: 1.1632 - val_accuracy: 0.5846\n",
      "Epoch 57/100\n",
      "73/73 [==============================] - 4s 56ms/step - loss: 1.0287 - accuracy: 0.6381 - val_loss: 1.2609 - val_accuracy: 0.5154\n",
      "Epoch 58/100\n",
      "73/73 [==============================] - 4s 57ms/step - loss: 1.0229 - accuracy: 0.6252 - val_loss: 1.1206 - val_accuracy: 0.5615\n",
      "Epoch 59/100\n",
      "73/73 [==============================] - 4s 56ms/step - loss: 1.0608 - accuracy: 0.6106 - val_loss: 1.0890 - val_accuracy: 0.5846\n",
      "Epoch 60/100\n",
      "73/73 [==============================] - 4s 61ms/step - loss: 0.9841 - accuracy: 0.6587 - val_loss: 1.0336 - val_accuracy: 0.6308\n",
      "Epoch 61/100\n",
      "73/73 [==============================] - 4s 58ms/step - loss: 0.9926 - accuracy: 0.6518 - val_loss: 1.3067 - val_accuracy: 0.5308\n",
      "Epoch 62/100\n",
      "73/73 [==============================] - 4s 59ms/step - loss: 1.0976 - accuracy: 0.6175 - val_loss: 1.0760 - val_accuracy: 0.6077\n",
      "Epoch 63/100\n",
      "73/73 [==============================] - 4s 59ms/step - loss: 0.9657 - accuracy: 0.6518 - val_loss: 1.4263 - val_accuracy: 0.5308\n",
      "Epoch 64/100\n",
      "73/73 [==============================] - 4s 60ms/step - loss: 1.0039 - accuracy: 0.6398 - val_loss: 1.0885 - val_accuracy: 0.5769\n",
      "Epoch 65/100\n",
      "73/73 [==============================] - 4s 60ms/step - loss: 0.9703 - accuracy: 0.6578 - val_loss: 1.1578 - val_accuracy: 0.6538\n",
      "Epoch 66/100\n",
      "73/73 [==============================] - 4s 61ms/step - loss: 0.9966 - accuracy: 0.6441 - val_loss: 1.0105 - val_accuracy: 0.5923\n",
      "Epoch 67/100\n",
      "73/73 [==============================] - 5s 68ms/step - loss: 0.9647 - accuracy: 0.6578 - val_loss: 1.4132 - val_accuracy: 0.5615\n",
      "Epoch 68/100\n",
      "73/73 [==============================] - 4s 62ms/step - loss: 0.9919 - accuracy: 0.6458 - val_loss: 1.0283 - val_accuracy: 0.6615\n",
      "Epoch 69/100\n",
      "73/73 [==============================] - 5s 62ms/step - loss: 0.9791 - accuracy: 0.6467 - val_loss: 1.2647 - val_accuracy: 0.6000\n",
      "Epoch 70/100\n",
      "73/73 [==============================] - 4s 61ms/step - loss: 0.9132 - accuracy: 0.6681 - val_loss: 1.0831 - val_accuracy: 0.6385\n",
      "Epoch 71/100\n",
      "73/73 [==============================] - 4s 60ms/step - loss: 0.9717 - accuracy: 0.6458 - val_loss: 1.1795 - val_accuracy: 0.5846\n",
      "Epoch 72/100\n",
      "73/73 [==============================] - 4s 60ms/step - loss: 0.9635 - accuracy: 0.6484 - val_loss: 1.0889 - val_accuracy: 0.6077\n",
      "Epoch 73/100\n",
      "73/73 [==============================] - 5s 67ms/step - loss: 0.9426 - accuracy: 0.6655 - val_loss: 1.0632 - val_accuracy: 0.6154\n",
      "Epoch 74/100\n",
      "73/73 [==============================] - 5s 66ms/step - loss: 0.9351 - accuracy: 0.6784 - val_loss: 0.9866 - val_accuracy: 0.6462\n",
      "Epoch 75/100\n",
      "73/73 [==============================] - 5s 71ms/step - loss: 0.9294 - accuracy: 0.6578 - val_loss: 1.0711 - val_accuracy: 0.5769\n",
      "Epoch 76/100\n",
      "73/73 [==============================] - 4s 61ms/step - loss: 0.9443 - accuracy: 0.6587 - val_loss: 1.1291 - val_accuracy: 0.5846\n",
      "Epoch 77/100\n",
      "73/73 [==============================] - 4s 61ms/step - loss: 0.8818 - accuracy: 0.6904 - val_loss: 1.0530 - val_accuracy: 0.6077\n",
      "Epoch 78/100\n",
      "73/73 [==============================] - 4s 61ms/step - loss: 0.9082 - accuracy: 0.6827 - val_loss: 1.0261 - val_accuracy: 0.5846\n",
      "Epoch 79/100\n",
      "73/73 [==============================] - 4s 61ms/step - loss: 0.9125 - accuracy: 0.6715 - val_loss: 1.0599 - val_accuracy: 0.5462\n",
      "Epoch 80/100\n",
      "73/73 [==============================] - 5s 62ms/step - loss: 0.9092 - accuracy: 0.6715 - val_loss: 0.9810 - val_accuracy: 0.6154\n",
      "Epoch 81/100\n",
      "73/73 [==============================] - 5s 62ms/step - loss: 0.9004 - accuracy: 0.6750 - val_loss: 1.0901 - val_accuracy: 0.5615\n",
      "Epoch 82/100\n",
      "73/73 [==============================] - 5s 65ms/step - loss: 0.8604 - accuracy: 0.6870 - val_loss: 1.0615 - val_accuracy: 0.5846\n",
      "Epoch 83/100\n",
      "73/73 [==============================] - 5s 65ms/step - loss: 0.8960 - accuracy: 0.6672 - val_loss: 1.2832 - val_accuracy: 0.5385\n",
      "Epoch 84/100\n",
      "73/73 [==============================] - 5s 62ms/step - loss: 0.9317 - accuracy: 0.6672 - val_loss: 0.9364 - val_accuracy: 0.6692\n",
      "Epoch 85/100\n",
      "73/73 [==============================] - 4s 61ms/step - loss: 0.8631 - accuracy: 0.6861 - val_loss: 0.9841 - val_accuracy: 0.5385\n",
      "Epoch 86/100\n",
      "73/73 [==============================] - 5s 62ms/step - loss: 0.8757 - accuracy: 0.6852 - val_loss: 0.9538 - val_accuracy: 0.6231\n",
      "Epoch 87/100\n",
      "73/73 [==============================] - 5s 65ms/step - loss: 0.8482 - accuracy: 0.6870 - val_loss: 0.8441 - val_accuracy: 0.6923\n",
      "Epoch 88/100\n",
      "73/73 [==============================] - 4s 53ms/step - loss: 0.8508 - accuracy: 0.6990 - val_loss: 0.9475 - val_accuracy: 0.6231\n",
      "Epoch 89/100\n",
      "73/73 [==============================] - 4s 50ms/step - loss: 0.8321 - accuracy: 0.7101 - val_loss: 0.9858 - val_accuracy: 0.6462\n",
      "Epoch 90/100\n",
      "73/73 [==============================] - 4s 49ms/step - loss: 0.8682 - accuracy: 0.6913 - val_loss: 1.0086 - val_accuracy: 0.6000\n",
      "Epoch 91/100\n",
      "73/73 [==============================] - 5s 74ms/step - loss: 0.8284 - accuracy: 0.7093 - val_loss: 0.9670 - val_accuracy: 0.6923\n",
      "Epoch 92/100\n",
      "73/73 [==============================] - 4s 61ms/step - loss: 0.8116 - accuracy: 0.7170 - val_loss: 0.9985 - val_accuracy: 0.6154\n",
      "Epoch 93/100\n",
      "73/73 [==============================] - 4s 60ms/step - loss: 0.8625 - accuracy: 0.6998 - val_loss: 0.9602 - val_accuracy: 0.6615\n",
      "Epoch 94/100\n",
      "73/73 [==============================] - 5s 62ms/step - loss: 0.8239 - accuracy: 0.6895 - val_loss: 0.9833 - val_accuracy: 0.6077\n",
      "Epoch 95/100\n",
      "73/73 [==============================] - 5s 62ms/step - loss: 0.8717 - accuracy: 0.6981 - val_loss: 0.9959 - val_accuracy: 0.6538\n",
      "Epoch 96/100\n",
      "73/73 [==============================] - 5s 63ms/step - loss: 0.8060 - accuracy: 0.7290 - val_loss: 0.9295 - val_accuracy: 0.6692\n",
      "Epoch 97/100\n",
      "73/73 [==============================] - 4s 60ms/step - loss: 0.8010 - accuracy: 0.7238 - val_loss: 0.9307 - val_accuracy: 0.7000\n",
      "Epoch 98/100\n",
      "73/73 [==============================] - 4s 62ms/step - loss: 0.7926 - accuracy: 0.7093 - val_loss: 0.9154 - val_accuracy: 0.6846\n",
      "Epoch 99/100\n",
      "73/73 [==============================] - 4s 60ms/step - loss: 0.8233 - accuracy: 0.7170 - val_loss: 0.9781 - val_accuracy: 0.6462\n",
      "Epoch 100/100\n",
      "73/73 [==============================] - 4s 61ms/step - loss: 0.7753 - accuracy: 0.7264 - val_loss: 0.8928 - val_accuracy: 0.6846\n"
     ]
    }
   ],
   "source": [
    "# train the model\n",
    "hist = model.fit(x_train, \n",
    "                 y_train, \n",
    "                 epochs=100, \n",
    "                 shuffle=True,\n",
    "                 #callbacks=earlystop,\n",
    "                 validation_split=0.1,\n",
    "                 batch_size=16)"
   ]
  },
  {
   "cell_type": "code",
   "execution_count": 10,
   "metadata": {
    "colab": {
     "base_uri": "https://localhost:8080/"
    },
    "executionInfo": {
     "elapsed": 1008,
     "status": "ok",
     "timestamp": 1637484060280,
     "user": {
      "displayName": "Mifta Nur Farid",
      "photoUrl": "https://lh3.googleusercontent.com/a-/AOh14Ggy1z392pDYiz6ZRr4cWS47fjaBR9kb91AFD3CB=s64",
      "userId": "04572607355647889010"
     },
     "user_tz": -480
    },
    "id": "u_SQLOZrwPLh",
    "outputId": "dfafbd18-6321-45d6-cd1a-6fa5b2671bb9"
   },
   "outputs": [
    {
     "name": "stdout",
     "output_type": "stream",
     "text": [
      "9/9 [==============================] - 1s 13ms/step - loss: 0.7816 - accuracy: 0.7361\n",
      "Loss=0.781646, Accuracy=0.736111\n"
     ]
    }
   ],
   "source": [
    "# evaluate the model on test partition\n",
    "evaluate = model.evaluate(x_test, y_test, batch_size=16)\n",
    "print(\"Loss={:.6f}, Accuracy={:.6f}\".format(evaluate[0],evaluate[1]))"
   ]
  },
  {
   "cell_type": "code",
   "execution_count": 11,
   "metadata": {
    "colab": {
     "base_uri": "https://localhost:8080/",
     "height": 295
    },
    "executionInfo": {
     "elapsed": 46,
     "status": "ok",
     "timestamp": 1637484060294,
     "user": {
      "displayName": "Mifta Nur Farid",
      "photoUrl": "https://lh3.googleusercontent.com/a-/AOh14Ggy1z392pDYiz6ZRr4cWS47fjaBR9kb91AFD3CB=s64",
      "userId": "04572607355647889010"
     },
     "user_tz": -480
    },
    "id": "JcEYLDN5wSph",
    "outputId": "ca7d4c92-6ac7-4c7e-9e85-a32a8a63134e"
   },
   "outputs": [
    {
     "data": {
      "image/png": "[encoded data removed]",
      "text/plain": [
       "<Figure size 432x288 with 1 Axes>"
      ]
     },
     "metadata": {
      "needs_background": "light"
     },
     "output_type": "display_data"
    }
   ],
   "source": [
    "# plot accuracy\n",
    "plt.figure()\n",
    "plt.plot(hist.history['accuracy'])\n",
    "plt.plot(hist.history['val_accuracy'])\n",
    "plt.grid()\n",
    "plt.legend(['Training', 'Validation'])\n",
    "plt.xlabel('Epoch')\n",
    "plt.ylabel('Accuracy')\n",
    "plt.title('CNN Model')\n",
    "plt.savefig('cnn_accuracy_sd_speech.svg')"
   ]
  },
  {
   "cell_type": "code",
   "execution_count": 12,
   "metadata": {
    "colab": {
     "base_uri": "https://localhost:8080/",
     "height": 390
    },
    "executionInfo": {
     "elapsed": 1680,
     "status": "ok",
     "timestamp": 1637484244837,
     "user": {
      "displayName": "Mifta Nur Farid",
      "photoUrl": "https://lh3.googleusercontent.com/a-/AOh14Ggy1z392pDYiz6ZRr4cWS47fjaBR9kb91AFD3CB=s64",
      "userId": "04572607355647889010"
     },
     "user_tz": -480
    },
    "id": "Aeio3Y2kwUo8",
    "outputId": "83016cf5-1eaf-4a02-dd17-3d14f84624ef"
   },
   "outputs": [
    {
     "data": {
      "image/png": "[encoded data removed]",
      "text/plain": [
       "<Figure size 720x432 with 2 Axes>"
      ]
     },
     "metadata": {
      "needs_background": "light"
     },
     "output_type": "display_data"
    }
   ],
   "source": [
    "# make prediction for confusion_matrix\n",
    "import os\n",
    "from sklearn.metrics import confusion_matrix\n",
    "import seaborn as sns\n",
    "import pandas as pd\n",
    "predict = model.predict(x_test, batch_size=16)\n",
    "emotions=['neutral', 'calm', 'happy', 'sad', 'angry', 'fearful', 'disgust', 'surprise']\n",
    "\n",
    "# predicted emotions from the test set\n",
    "y_pred = np.argmax(predict, 1)\n",
    "predicted_emo = []\n",
    "for i in range(0,y_test.shape[0]):\n",
    "    emo = emotions[y_pred[i]]\n",
    "    predicted_emo.append(emo)\n",
    "\n",
    "# get actual emotion\n",
    "actual_emo = []\n",
    "y_true = y_test\n",
    "for i in range(0,y_test.shape[0]):\n",
    "    emo = emotions[y_true[i]]\n",
    "    actual_emo.append(emo)\n",
    "\n",
    "# generate the confusion matrix\n",
    "cm = confusion_matrix(actual_emo, predicted_emo)\n",
    "cm = cm.astype('float') / cm.sum(axis=1)[:, np.newaxis]\n",
    "\n",
    "index = ['neutral', 'calm', 'happy', 'sad', 'angry', 'fearful', 'disgust', 'surprise']\n",
    "columns = ['neutral', 'calm', 'happy', 'sad', 'angry', 'fearful', 'disgust', 'surprise']\n",
    "cm_df = pd.DataFrame(cm, index, columns)\n",
    "plt.figure(figsize=(10, 6))\n",
    "plt.title('Confusion Matrix of CNN')\n",
    "sns.heatmap(cm_df, annot=True)\n",
    "plt.savefig('cnn_cm_sd_speech.svg')"
   ]
  },
  {
   "cell_type": "code",
   "execution_count": 13,
   "metadata": {
    "colab": {
     "base_uri": "https://localhost:8080/"
    },
    "executionInfo": {
     "elapsed": 43,
     "status": "ok",
     "timestamp": 1637484244839,
     "user": {
      "displayName": "Mifta Nur Farid",
      "photoUrl": "https://lh3.googleusercontent.com/a-/AOh14Ggy1z392pDYiz6ZRr4cWS47fjaBR9kb91AFD3CB=s64",
      "userId": "04572607355647889010"
     },
     "user_tz": -480
    },
    "id": "PZJ1T6A0wWg7",
    "outputId": "96e0f906-a0ec-4a29-bf98-679d7d09d4ac"
   },
   "outputs": [
    {
     "name": "stdout",
     "output_type": "stream",
     "text": [
      "UAR:  0.7178790164084281\n"
     ]
    }
   ],
   "source": [
    "# print unweighted average recall\n",
    "print(\"UAR: \", cm.trace()/cm.shape[0])"
   ]
  },
  {
   "cell_type": "code",
   "execution_count": null,
   "metadata": {
    "executionInfo": {
     "elapsed": 29,
     "status": "ok",
     "timestamp": 1637484244842,
     "user": {
      "displayName": "Mifta Nur Farid",
      "photoUrl": "https://lh3.googleusercontent.com/a-/AOh14Ggy1z392pDYiz6ZRr4cWS47fjaBR9kb91AFD3CB=s64",
      "userId": "04572607355647889010"
     },
     "user_tz": -480
    },
    "id": "wI3Dp_xzwYHh"
   },
   "outputs": [],
   "source": []
  }
 ],
 "metadata": {
  "colab": {
   "authorship_tag": "ABX9TyO51nmTsJ/dN1po1pV+Y5U1",
   "name": "cnn_sd_speech.ipynb",
   "provenance": []
  },
  "kernelspec": {
   "display_name": "Python 3 (ipykernel)",
   "language": "python",
   "name": "python3"
  },
  "language_info": {
   "codemirror_mode": {
    "name": "ipython",
    "version": 3
   },
   "file_extension": ".py",
   "mimetype": "text/x-python",
   "name": "python",
   "nbconvert_exporter": "python",
   "pygments_lexer": "ipython3",
   "version": "3.9.10"
  }
 },
 "nbformat": 4,
 "nbformat_minor": 4
}
